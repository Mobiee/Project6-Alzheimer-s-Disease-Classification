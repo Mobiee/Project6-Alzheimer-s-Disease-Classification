{
 "cells": [
  {
   "cell_type": "markdown",
   "metadata": {},
   "source": [
    "## Feature importance testing by removing one measurement each time."
   ]
  },
  {
   "cell_type": "code",
   "execution_count": 1,
   "metadata": {},
   "outputs": [],
   "source": [
    "import numpy as np\n",
    "import pandas as pd\n",
    "import matplotlib.pyplot as plt\n",
    "import seaborn as sns\n",
    "from sklearn.preprocessing import MinMaxScaler\n",
    "from sklearn.decomposition import PCA\n",
    "from sklearn.tree import DecisionTreeClassifier\n",
    "from xgboost import XGBClassifier\n",
    "from sklearn.svm import SVC\n",
    "from sklearn.ensemble import RandomForestClassifier\n",
    "from sklearn.metrics import accuracy_score, log_loss\n",
    "from sklearn.metrics import f1_score, confusion_matrix\n",
    "from sklearn.metrics import roc_auc_score\n",
    "from sklearn.model_selection import GridSearchCV\n",
    "# PredefinedSplit\n",
    "from sklearn.model_selection import GridSearchCV, RandomizedSearchCV \n",
    "from sklearn.svm import SVC as svc \n",
    "from sklearn.metrics import make_scorer, roc_auc_score\n",
    "from scipy import stats\n",
    "from sklearn.metrics import plot_roc_curve\n",
    "import matplotlib.pyplot as plt"
   ]
  },
  {
   "cell_type": "code",
   "execution_count": 2,
   "metadata": {},
   "outputs": [],
   "source": [
    "# loadings saved features that was prepared in data preparation file\n",
    "\n",
    "from pickle import load\n",
    "# load train_diagnose\n",
    "train_diagnose= load(open('train_diagnose.pkl', 'rb'))\n",
    "# load the NC data\n",
    "fa_feature_all_locations_without_Nan = load(open('fa_feature_all_locations_without_Nan.pkl', 'rb'))\n",
    "# load the NC_y data\n",
    "md_feature_all_locations_without_Nan= load(open('md_feature_all_locations_without_Nan.pkl', 'rb'))\n",
    "\n",
    "# load the AD_X data\n",
    "rd_feature_all_locations_without_Nan= load(open('rd_feature_all_locations_without_Nan.pkl', 'rb'))\n",
    "# load the AD_y data\n",
    "ad_feature_all_locations_without_Nan= load(open('ad_feature_all_locations_without_Nan.pkl', 'rb'))\n",
    "\n",
    "cl_feature_all_locations_without_Nan= load(open('cl_feature_all_locations_without_Nan.pkl', 'rb'))\n",
    "# load the NC_y data\n",
    "curvature_feature_all_locations_without_Nan= load(open('curvature_feature_all_locations_without_Nan.pkl', 'rb'))\n",
    "\n",
    "# load the AD_X data\n",
    "Torsion_feature_all_locations_without_Nan = load(open('Torsion_feature_all_locations_without_Nan.pkl', 'rb'))\n",
    "# load the AD_y data\n",
    "volume_feature_all_locations_without_Nan= load(open('volume_feature_all_locations_without_Nan.pkl', 'rb'))\n",
    "\n",
    "\n",
    "\n",
    "# load the svc model\n",
    "svc_final =load(open('svc_final_ADvsMCI_withVal.pkl', 'rb'))\n",
    "# load the  randomforest\n",
    "rf_final =load (open('rf_final_ADvsMCI_withVal.pkl', 'rb'))\n",
    "\n",
    "# load the dt model\n",
    "dt_final=load(open('dt_final_ADvsMCI_withVal.pkl', 'rb'))\n",
    "# load the axgboost model\n",
    "xgb_final= load (open('xgb_final_ADvsMCI_withVal.pkl', 'rb'))"
   ]
  },
  {
   "cell_type": "code",
   "execution_count": 3,
   "metadata": {},
   "outputs": [],
   "source": [
    "from sklearn.pipeline import Pipeline\n",
    "# creating a pipline to scale and redcue the dimensionality of all fetaures.\n",
    "pipe = Pipeline([('scaler', MinMaxScaler(feature_range = (0, 1))),\n",
    "                 ('pca', PCA(30))])"
   ]
  },
  {
   "cell_type": "code",
   "execution_count": 4,
   "metadata": {},
   "outputs": [
    {
     "name": "stdout",
     "output_type": "stream",
     "text": [
      "(700, 30)\n",
      "(700, 30)\n",
      "(700, 30)\n",
      "(700, 30)\n",
      "(700, 30)\n",
      "(700, 30)\n",
      "(700, 30)\n",
      "(700, 30)\n"
     ]
    }
   ],
   "source": [
    "# applying the pipline to Fa feature to reduce its dimensilaity from 16000 to 30 \n",
    "fa_feature_all_locations_scalPca=pipe.fit_transform(fa_feature_all_locations_without_Nan)\n",
    "print(fa_feature_all_locations_scalPca.shape)\n",
    "# applying the pipline to MD feature to reduce its dimensilaity from 16000 to 30 \n",
    "md_feature_all_locations_scalPca=pipe.fit_transform(md_feature_all_locations_without_Nan)\n",
    "print(md_feature_all_locations_scalPca.shape)\n",
    "# applying the pipline to RD feature to reduce its dimensilaity from 16000 to 30 \n",
    "rd_feature_all_locations_scalPca=pipe.fit_transform(rd_feature_all_locations_without_Nan)\n",
    "print(rd_feature_all_locations_scalPca.shape)\n",
    "# applying the pipline to AD feature to reduce its dimensilaity from 16000 to 30 \n",
    "ad_feature_all_locations_scalPca=pipe.fit_transform(ad_feature_all_locations_without_Nan)\n",
    "print(ad_feature_all_locations_scalPca.shape)\n",
    "# applying the pipline to CL feature to reduce its dimensilaity from 16000 to 30 \n",
    "cl_feature_all_locations_scalPca=pipe.fit_transform(cl_feature_all_locations_without_Nan)\n",
    "print(cl_feature_all_locations_scalPca.shape)\n",
    "# applying the pipline to curvature feature to reduce its dimensilaity from 16000 to 30 \n",
    "curvature_feature_all_locations_scalPca=pipe.fit_transform(curvature_feature_all_locations_without_Nan)\n",
    "print(curvature_feature_all_locations_scalPca.shape)\n",
    "# applying the pipline to Torsion feature to reduce its dimensilaity from 16000 to 30 \n",
    "Torsion_feature_all_locations_scalPca=pipe.fit_transform(Torsion_feature_all_locations_without_Nan)\n",
    "print(Torsion_feature_all_locations_scalPca.shape)\n",
    "# applying the pipline to Volume feature to reduce its dimensilaity from 16000 to 30 \n",
    "volume_feature_all_locations_scalPca=pipe.fit_transform(volume_feature_all_locations_without_Nan)\n",
    "print(volume_feature_all_locations_scalPca.shape)"
   ]
  },
  {
   "cell_type": "code",
   "execution_count": 5,
   "metadata": {},
   "outputs": [],
   "source": [
    "# correcting mistakes of not using replaced nan values \n",
    "combined_features_scalPca=np.concatenate((fa_feature_all_locations_scalPca,md_feature_all_locations_scalPca,rd_feature_all_locations_scalPca, \n",
    "                        ad_feature_all_locations_scalPca,cl_feature_all_locations_scalPca,curvature_feature_all_locations_scalPca,\n",
    "                        Torsion_feature_all_locations_scalPca,volume_feature_all_locations_scalPca),axis=1)"
   ]
  },
  {
   "cell_type": "code",
   "execution_count": 6,
   "metadata": {},
   "outputs": [],
   "source": [
    "# combining Features and train diagnose \n",
    "CombinedFeatDig=np.concatenate((combined_features_scalPca,train_diagnose),axis=1)"
   ]
  },
  {
   "cell_type": "code",
   "execution_count": 7,
   "metadata": {},
   "outputs": [
    {
     "name": "stdout",
     "output_type": "stream",
     "text": [
      "(235,)\n",
      "(215,)\n",
      "(250,)\n"
     ]
    }
   ],
   "source": [
    "# separating NC,MCI and AD from the data\n",
    "NC = np.where(CombinedFeatDig[:,-1] == 1)[0]\n",
    "# NC shape after separting it from two other lables\n",
    "print(NC.shape)\n",
    "\n",
    "NMCI = np.where(CombinedFeatDig[:,-1] == 2)[0]\n",
    "# MCI shape after separting it from two other lables\n",
    "print(NMCI.shape)\n",
    "# AD shape after separting it from two other lables\n",
    "AD = np.where(CombinedFeatDig[:,-1] == 3)[0]\n",
    "print(AD.shape)\n",
    "\n"
   ]
  },
  {
   "cell_type": "code",
   "execution_count": null,
   "metadata": {},
   "outputs": [],
   "source": []
  },
  {
   "cell_type": "code",
   "execution_count": 8,
   "metadata": {},
   "outputs": [
    {
     "name": "stdout",
     "output_type": "stream",
     "text": [
      "(215, 240)\n",
      "(215, 1)\n",
      "(250, 240)\n",
      "(250, 1)\n"
     ]
    }
   ],
   "source": [
    "# X=combined_features_without_Scaling\n",
    "# X.shape\n",
    "y=train_diagnose\n",
    "y.shape\n",
    "\n",
    "\n",
    "\n",
    "NMCI_data_x =combined_features_scalPca[NMCI]\n",
    "NMCI_data_y = y[NMCI]\n",
    "\n",
    "print(NMCI_data_x.shape)\n",
    "print(NMCI_data_y.shape)\n",
    "\n",
    "AD_data_x = combined_features_scalPca[AD]\n",
    "AD_data_y = y[AD]\n",
    "\n",
    "print(AD_data_x.shape)\n",
    "print(AD_data_y.shape)\n"
   ]
  },
  {
   "cell_type": "code",
   "execution_count": 9,
   "metadata": {},
   "outputs": [
    {
     "name": "stdout",
     "output_type": "stream",
     "text": [
      "(465, 240)\n",
      "(465, 1)\n"
     ]
    }
   ],
   "source": [
    "# combining AD and MCI\n",
    "ADvsNMCI_X=np.concatenate((AD_data_x, NMCI_data_x), axis=0)\n",
    "print(ADvsNMCI_X.shape)\n",
    "\n",
    "ADvsNMCI_Y=np.concatenate((AD_data_y, NMCI_data_y), axis=0)\n",
    "print(ADvsNMCI_Y.shape)"
   ]
  },
  {
   "cell_type": "code",
   "execution_count": 10,
   "metadata": {},
   "outputs": [
    {
     "name": "stdout",
     "output_type": "stream",
     "text": [
      "(372, 240)\n",
      "(93, 240)\n"
     ]
    }
   ],
   "source": [
    "from sklearn.model_selection import train_test_split\n",
    "# splitting data into tarining , testing .\n",
    "X_train, X_test, y_train, y_test = train_test_split(ADvsNMCI_X,ADvsNMCI_Y, test_size=0.20, random_state=123)\n",
    "print(X_train.shape)\n",
    "print(X_test.shape)\n"
   ]
  },
  {
   "cell_type": "code",
   "execution_count": 11,
   "metadata": {},
   "outputs": [
    {
     "name": "stdout",
     "output_type": "stream",
     "text": [
      "==============================\n",
      "SVC\n",
      "****Results****\n",
      "Training 93.01%\n",
      "Accuracy 63.44%\n",
      "==============================\n",
      "RandomForestClassifier\n",
      "****Results****\n",
      "Training 100.00%\n",
      "Accuracy 64.52%\n",
      "==============================\n",
      "DecisionTreeClassifier\n",
      "****Results****\n",
      "Training 73.92%\n",
      "Accuracy 53.76%\n",
      "[00:43:36] WARNING: /Users/travis/build/dmlc/xgboost/src/learner.cc:1095: Starting in XGBoost 1.3.0, the default evaluation metric used with the objective 'binary:logistic' was changed from 'error' to 'logloss'. Explicitly set eval_metric if you'd like to restore the old behavior.\n"
     ]
    },
    {
     "name": "stderr",
     "output_type": "stream",
     "text": [
      "/opt/anaconda3/lib/python3.7/site-packages/xgboost/sklearn.py:1146: UserWarning: The use of label encoder in XGBClassifier is deprecated and will be removed in a future release. To remove this warning, do the following: 1) Pass option use_label_encoder=False when constructing XGBClassifier object; and 2) Encode your labels (y) as integers starting with 0, i.e. 0, 1, 2, ..., [num_class - 1].\n",
      "  warnings.warn(label_encoder_deprecation_msg, UserWarning)\n"
     ]
    },
    {
     "name": "stdout",
     "output_type": "stream",
     "text": [
      "==============================\n",
      "XGBClassifier\n",
      "****Results****\n",
      "Training 100.00%\n",
      "Accuracy 56.99%\n",
      "==============================\n"
     ]
    },
    {
     "data": {
      "text/html": [
       "<div>\n",
       "<style scoped>\n",
       "    .dataframe tbody tr th:only-of-type {\n",
       "        vertical-align: middle;\n",
       "    }\n",
       "\n",
       "    .dataframe tbody tr th {\n",
       "        vertical-align: top;\n",
       "    }\n",
       "\n",
       "    .dataframe thead th {\n",
       "        text-align: right;\n",
       "    }\n",
       "</style>\n",
       "<table border=\"1\" class=\"dataframe\">\n",
       "  <thead>\n",
       "    <tr style=\"text-align: right;\">\n",
       "      <th></th>\n",
       "      <th>All Features</th>\n",
       "    </tr>\n",
       "  </thead>\n",
       "  <tbody>\n",
       "    <tr>\n",
       "      <th>0</th>\n",
       "      <td>63.440860</td>\n",
       "    </tr>\n",
       "    <tr>\n",
       "      <th>1</th>\n",
       "      <td>64.516129</td>\n",
       "    </tr>\n",
       "    <tr>\n",
       "      <th>2</th>\n",
       "      <td>53.763441</td>\n",
       "    </tr>\n",
       "    <tr>\n",
       "      <th>3</th>\n",
       "      <td>56.989247</td>\n",
       "    </tr>\n",
       "  </tbody>\n",
       "</table>\n",
       "</div>"
      ],
      "text/plain": [
       "   All Features\n",
       "0     63.440860\n",
       "1     64.516129\n",
       "2     53.763441\n",
       "3     56.989247"
      ]
     },
     "execution_count": 11,
     "metadata": {},
     "output_type": "execute_result"
    }
   ],
   "source": [
    "finalClassifiers=[svc_final,rf_final,dt_final,xgb_final]\n",
    "\n",
    "feature_entry=[]\n",
    "for models in finalClassifiers:\n",
    "    models.fit(X_train, y_train.ravel())\n",
    "    name = models.__class__.__name__\n",
    "    \n",
    "    print(\"=\"*30)\n",
    "    print(name)\n",
    "    \n",
    "    print('****Results****')\n",
    "    train_predictions = models.predict(X_test)\n",
    "    trainingscore=models.score(X_train, y_train.ravel())\n",
    "    accuracy = accuracy_score(y_test.ravel(), train_predictions)\n",
    "    print(\"Training {:.2%}\".format(trainingscore))\n",
    "    print(\"Accuracy {:.2%}\".format(accuracy))\n",
    "    feature_entry.append([accuracy*100])\n",
    "    \n",
    "#     featureImportance_df[\"Without_FA\"]=feature_entry[0:4]\n",
    "    FeatureImportance_all=pd.DataFrame(feature_entry[0:4],columns=[\"All Features\"])\n",
    "\n",
    "    \n",
    "print(\"=\"*30)\n",
    "FeatureImportance_all.head(5)\n",
    "\n",
    "# # feature_entry[0:4]\n",
    "# FeatureImportance_FA"
   ]
  },
  {
   "cell_type": "markdown",
   "metadata": {},
   "source": [
    "## AD vs NMCI Training without FA"
   ]
  },
  {
   "cell_type": "code",
   "execution_count": 12,
   "metadata": {},
   "outputs": [],
   "source": [
    "np.random.seed(500)\n",
    "#removing Fa from the data\n",
    "combined_FA_Ex=np.concatenate((md_feature_all_locations_scalPca,rd_feature_all_locations_scalPca, \n",
    "                        ad_feature_all_locations_scalPca,cl_feature_all_locations_scalPca,curvature_feature_all_locations_scalPca,\n",
    "                        Torsion_feature_all_locations_scalPca,volume_feature_all_locations_scalPca),axis=1)"
   ]
  },
  {
   "cell_type": "code",
   "execution_count": 13,
   "metadata": {},
   "outputs": [
    {
     "name": "stdout",
     "output_type": "stream",
     "text": [
      "(235, 210)\n",
      "(235, 1)\n",
      "(215, 210)\n",
      "(215, 1)\n",
      "(250, 210)\n",
      "(250, 1)\n"
     ]
    }
   ],
   "source": [
    "# X=combined_features_without_Scaling\n",
    "# X.shape\n",
    "y=train_diagnose\n",
    "y.shape\n",
    "NC_data_x = combined_FA_Ex[NC]\n",
    "NC_data_y = y[NC]\n",
    "\n",
    "print(NC_data_x.shape)\n",
    "print(NC_data_y.shape)\n",
    "\n",
    "\n",
    "NMCI_data_x =combined_FA_Ex[NMCI]\n",
    "NMCI_data_y = y[NMCI]\n",
    "\n",
    "print(NMCI_data_x.shape)\n",
    "print(NMCI_data_y.shape)\n",
    "\n",
    "AD_data_x = combined_FA_Ex[AD]\n",
    "AD_data_y = y[AD]\n",
    "\n",
    "print(AD_data_x.shape)\n",
    "print(AD_data_y.shape)\n"
   ]
  },
  {
   "cell_type": "code",
   "execution_count": 14,
   "metadata": {},
   "outputs": [
    {
     "name": "stdout",
     "output_type": "stream",
     "text": [
      "(465, 210)\n",
      "(465, 1)\n"
     ]
    }
   ],
   "source": [
    "# combining AD and MCI\n",
    "ADvsNMCI_X=np.concatenate((AD_data_x, NMCI_data_x), axis=0)\n",
    "print(ADvsNMCI_X.shape)\n",
    "\n",
    "ADvsNMCI_Y=np.concatenate((AD_data_y, NMCI_data_y), axis=0)\n",
    "print(ADvsNMCI_Y.shape)"
   ]
  },
  {
   "cell_type": "code",
   "execution_count": 15,
   "metadata": {},
   "outputs": [
    {
     "name": "stdout",
     "output_type": "stream",
     "text": [
      "(372, 210)\n",
      "(93, 210)\n"
     ]
    }
   ],
   "source": [
    "from sklearn.model_selection import train_test_split\n",
    "# splitting data into tarining , testing .\n",
    "X_train, X_test, y_train, y_test = train_test_split(ADvsNMCI_X,ADvsNMCI_Y, test_size=0.20, random_state=123)\n",
    "print(X_train.shape)\n",
    "print(X_test.shape)\n"
   ]
  },
  {
   "cell_type": "code",
   "execution_count": 16,
   "metadata": {},
   "outputs": [
    {
     "name": "stdout",
     "output_type": "stream",
     "text": [
      "==============================\n",
      "SVC\n",
      "****Results****\n",
      "Training 91.94%\n",
      "Accuracy 62.37%\n",
      "==============================\n",
      "RandomForestClassifier\n",
      "****Results****\n",
      "Training 100.00%\n",
      "Accuracy 64.52%\n",
      "==============================\n",
      "DecisionTreeClassifier\n",
      "****Results****\n",
      "Training 72.85%\n",
      "Accuracy 51.61%\n",
      "[00:43:37] WARNING: /Users/travis/build/dmlc/xgboost/src/learner.cc:1095: Starting in XGBoost 1.3.0, the default evaluation metric used with the objective 'binary:logistic' was changed from 'error' to 'logloss'. Explicitly set eval_metric if you'd like to restore the old behavior.\n"
     ]
    },
    {
     "name": "stderr",
     "output_type": "stream",
     "text": [
      "/opt/anaconda3/lib/python3.7/site-packages/xgboost/sklearn.py:1146: UserWarning: The use of label encoder in XGBClassifier is deprecated and will be removed in a future release. To remove this warning, do the following: 1) Pass option use_label_encoder=False when constructing XGBClassifier object; and 2) Encode your labels (y) as integers starting with 0, i.e. 0, 1, 2, ..., [num_class - 1].\n",
      "  warnings.warn(label_encoder_deprecation_msg, UserWarning)\n"
     ]
    },
    {
     "name": "stdout",
     "output_type": "stream",
     "text": [
      "==============================\n",
      "XGBClassifier\n",
      "****Results****\n",
      "Training 100.00%\n",
      "Accuracy 54.84%\n",
      "==============================\n"
     ]
    },
    {
     "data": {
      "text/html": [
       "<div>\n",
       "<style scoped>\n",
       "    .dataframe tbody tr th:only-of-type {\n",
       "        vertical-align: middle;\n",
       "    }\n",
       "\n",
       "    .dataframe tbody tr th {\n",
       "        vertical-align: top;\n",
       "    }\n",
       "\n",
       "    .dataframe thead th {\n",
       "        text-align: right;\n",
       "    }\n",
       "</style>\n",
       "<table border=\"1\" class=\"dataframe\">\n",
       "  <thead>\n",
       "    <tr style=\"text-align: right;\">\n",
       "      <th></th>\n",
       "      <th>Without_FA</th>\n",
       "    </tr>\n",
       "  </thead>\n",
       "  <tbody>\n",
       "    <tr>\n",
       "      <th>0</th>\n",
       "      <td>62.365591</td>\n",
       "    </tr>\n",
       "    <tr>\n",
       "      <th>1</th>\n",
       "      <td>64.516129</td>\n",
       "    </tr>\n",
       "    <tr>\n",
       "      <th>2</th>\n",
       "      <td>51.612903</td>\n",
       "    </tr>\n",
       "    <tr>\n",
       "      <th>3</th>\n",
       "      <td>54.838710</td>\n",
       "    </tr>\n",
       "  </tbody>\n",
       "</table>\n",
       "</div>"
      ],
      "text/plain": [
       "   Without_FA\n",
       "0   62.365591\n",
       "1   64.516129\n",
       "2   51.612903\n",
       "3   54.838710"
      ]
     },
     "execution_count": 16,
     "metadata": {},
     "output_type": "execute_result"
    }
   ],
   "source": [
    "# finalClassifiers = [svc_final, rf_final, dt_final,xgb_final]\n",
    "# featureImportance_cols=[\"Classifiers\"]\n",
    "# featureImportance_df = pd.DataFrame(columns=featureImportance_cols)\n",
    "# feature_entry=[]\n",
    "feature_entry=[]\n",
    "for models in finalClassifiers:\n",
    "    models.fit(X_train, y_train.ravel())\n",
    "    name = models.__class__.__name__\n",
    "    \n",
    "    print(\"=\"*30)\n",
    "    print(name)\n",
    "    \n",
    "    print('****Results****')\n",
    "    train_predictions = models.predict(X_test)\n",
    "    trainingscore=models.score(X_train, y_train.ravel())\n",
    "    accuracy = accuracy_score(y_test.ravel(), train_predictions)\n",
    "    print(\"Training {:.2%}\".format(trainingscore))\n",
    "    print(\"Accuracy {:.2%}\".format(accuracy))\n",
    "    feature_entry.append([accuracy*100])\n",
    "    \n",
    "#     featureImportance_df[\"Without_FA\"]=feature_entry[0:4]\n",
    "    FeatureImportance_FA=pd.DataFrame(feature_entry[0:4],columns=[\"Without_FA\"])\n",
    "\n",
    "    \n",
    "print(\"=\"*30)\n",
    "# featureImportance_df.head(5)\n",
    "\n",
    "# feature_entry[0:4]\n",
    "FeatureImportance_FA"
   ]
  },
  {
   "cell_type": "markdown",
   "metadata": {},
   "source": [
    "## AD vs NMCI Training without MD"
   ]
  },
  {
   "cell_type": "code",
   "execution_count": 17,
   "metadata": {},
   "outputs": [],
   "source": [
    "\n",
    "#removing MD from the data\n",
    "combined_MD_Ex=np.concatenate((fa_feature_all_locations_scalPca,rd_feature_all_locations_scalPca, \n",
    "                        ad_feature_all_locations_scalPca,cl_feature_all_locations_scalPca,curvature_feature_all_locations_scalPca,\n",
    "                        Torsion_feature_all_locations_scalPca,volume_feature_all_locations_scalPca),axis=1)"
   ]
  },
  {
   "cell_type": "code",
   "execution_count": 18,
   "metadata": {},
   "outputs": [
    {
     "name": "stdout",
     "output_type": "stream",
     "text": [
      "(215, 210)\n",
      "(215, 1)\n",
      "(250, 210)\n",
      "(250, 1)\n"
     ]
    }
   ],
   "source": [
    "\n",
    "\n",
    "NMCI_data_x =combined_MD_Ex[NMCI]\n",
    "NMCI_data_y = y[NMCI]\n",
    "\n",
    "print(NMCI_data_x.shape)\n",
    "print(NMCI_data_y.shape)\n",
    "\n",
    "AD_data_x = combined_MD_Ex[AD]\n",
    "AD_data_y = y[AD]\n",
    "\n",
    "print(AD_data_x.shape)\n",
    "print(AD_data_y.shape)\n"
   ]
  },
  {
   "cell_type": "code",
   "execution_count": 19,
   "metadata": {},
   "outputs": [
    {
     "name": "stdout",
     "output_type": "stream",
     "text": [
      "(465, 210)\n",
      "(465, 1)\n"
     ]
    }
   ],
   "source": [
    "\n",
    "ADvsNMCI_X=np.concatenate((AD_data_x, NMCI_data_x), axis=0)\n",
    "print(ADvsNMCI_X.shape)\n",
    "\n",
    "ADvsNMCI_Y=np.concatenate((AD_data_y, NMCI_data_y), axis=0)\n",
    "print(ADvsNMCI_Y.shape)"
   ]
  },
  {
   "cell_type": "code",
   "execution_count": 20,
   "metadata": {},
   "outputs": [
    {
     "name": "stdout",
     "output_type": "stream",
     "text": [
      "(372, 210)\n",
      "(93, 210)\n"
     ]
    }
   ],
   "source": [
    "from sklearn.model_selection import train_test_split\n",
    "X_train, X_test, y_train, y_test = train_test_split(ADvsNMCI_X,ADvsNMCI_Y, test_size=0.20, random_state=123)\n",
    "print(X_train.shape)\n",
    "print(X_test.shape)\n"
   ]
  },
  {
   "cell_type": "code",
   "execution_count": 21,
   "metadata": {},
   "outputs": [
    {
     "name": "stdout",
     "output_type": "stream",
     "text": [
      "==============================\n",
      "SVC\n",
      "****Results****\n",
      "Training 92.74%\n",
      "Accuracy 64.52%\n",
      "==============================\n",
      "RandomForestClassifier\n",
      "****Results****\n",
      "Training 100.00%\n",
      "Accuracy 61.29%\n",
      "==============================\n",
      "DecisionTreeClassifier\n",
      "****Results****\n",
      "Training 73.92%\n",
      "Accuracy 53.76%\n",
      "[00:43:38] WARNING: /Users/travis/build/dmlc/xgboost/src/learner.cc:1095: Starting in XGBoost 1.3.0, the default evaluation metric used with the objective 'binary:logistic' was changed from 'error' to 'logloss'. Explicitly set eval_metric if you'd like to restore the old behavior.\n"
     ]
    },
    {
     "name": "stderr",
     "output_type": "stream",
     "text": [
      "/opt/anaconda3/lib/python3.7/site-packages/xgboost/sklearn.py:1146: UserWarning: The use of label encoder in XGBClassifier is deprecated and will be removed in a future release. To remove this warning, do the following: 1) Pass option use_label_encoder=False when constructing XGBClassifier object; and 2) Encode your labels (y) as integers starting with 0, i.e. 0, 1, 2, ..., [num_class - 1].\n",
      "  warnings.warn(label_encoder_deprecation_msg, UserWarning)\n"
     ]
    },
    {
     "name": "stdout",
     "output_type": "stream",
     "text": [
      "==============================\n",
      "XGBClassifier\n",
      "****Results****\n",
      "Training 100.00%\n",
      "Accuracy 54.84%\n",
      "==============================\n"
     ]
    },
    {
     "data": {
      "text/html": [
       "<div>\n",
       "<style scoped>\n",
       "    .dataframe tbody tr th:only-of-type {\n",
       "        vertical-align: middle;\n",
       "    }\n",
       "\n",
       "    .dataframe tbody tr th {\n",
       "        vertical-align: top;\n",
       "    }\n",
       "\n",
       "    .dataframe thead th {\n",
       "        text-align: right;\n",
       "    }\n",
       "</style>\n",
       "<table border=\"1\" class=\"dataframe\">\n",
       "  <thead>\n",
       "    <tr style=\"text-align: right;\">\n",
       "      <th></th>\n",
       "      <th>Without_MA</th>\n",
       "    </tr>\n",
       "  </thead>\n",
       "  <tbody>\n",
       "    <tr>\n",
       "      <th>0</th>\n",
       "      <td>64.516129</td>\n",
       "    </tr>\n",
       "    <tr>\n",
       "      <th>1</th>\n",
       "      <td>61.290323</td>\n",
       "    </tr>\n",
       "    <tr>\n",
       "      <th>2</th>\n",
       "      <td>53.763441</td>\n",
       "    </tr>\n",
       "    <tr>\n",
       "      <th>3</th>\n",
       "      <td>54.838710</td>\n",
       "    </tr>\n",
       "  </tbody>\n",
       "</table>\n",
       "</div>"
      ],
      "text/plain": [
       "   Without_MA\n",
       "0   64.516129\n",
       "1   61.290323\n",
       "2   53.763441\n",
       "3   54.838710"
      ]
     },
     "execution_count": 21,
     "metadata": {},
     "output_type": "execute_result"
    }
   ],
   "source": [
    "# featureImportance_cols=[\"Classifiers\",\"Without_FA\"]\n",
    "# featureImportance_df = pd.DataFrame(columns=featureImportance_cols)\n",
    "feature_entry=[]\n",
    "for models in finalClassifiers:\n",
    "    models.fit(X_train, y_train.ravel())\n",
    "    name = models.__class__.__name__\n",
    "    \n",
    "    print(\"=\"*30)\n",
    "    print(name)\n",
    "    \n",
    "    print('****Results****')\n",
    "    train_predictions = models.predict(X_test)\n",
    "    trainingscore=models.score(X_train, y_train.ravel())\n",
    "    accuracy = accuracy_score(y_test.ravel(), train_predictions)\n",
    "    print(\"Training {:.2%}\".format(trainingscore))\n",
    "    print(\"Accuracy {:.2%}\".format(accuracy))\n",
    "\n",
    "    feature_entry.append([accuracy*100])\n",
    "\n",
    "    FeatureImportance_MD=pd.DataFrame(feature_entry[0:4],columns=[\"Without_MA\"])\n",
    "    \n",
    "print(\"=\"*30)\n",
    "FeatureImportance_MD\n",
    "\n"
   ]
  },
  {
   "cell_type": "markdown",
   "metadata": {},
   "source": [
    "## AD vs NMCI Training without RD"
   ]
  },
  {
   "cell_type": "code",
   "execution_count": 22,
   "metadata": {},
   "outputs": [],
   "source": [
    "#removing RD from the data\n",
    "combined_RD_Ex=np.concatenate((fa_feature_all_locations_scalPca,md_feature_all_locations_scalPca, \n",
    "                        ad_feature_all_locations_scalPca,cl_feature_all_locations_scalPca,curvature_feature_all_locations_scalPca,\n",
    "                        Torsion_feature_all_locations_scalPca,volume_feature_all_locations_scalPca),axis=1)"
   ]
  },
  {
   "cell_type": "code",
   "execution_count": 23,
   "metadata": {},
   "outputs": [
    {
     "name": "stdout",
     "output_type": "stream",
     "text": [
      "(215, 210)\n",
      "(215, 1)\n",
      "(250, 210)\n",
      "(250, 1)\n"
     ]
    }
   ],
   "source": [
    "\n",
    "NMCI_data_x =combined_RD_Ex[NMCI]\n",
    "NMCI_data_y = y[NMCI]\n",
    "\n",
    "print(NMCI_data_x.shape)\n",
    "print(NMCI_data_y.shape)\n",
    "\n",
    "AD_data_x = combined_RD_Ex[AD]\n",
    "AD_data_y = y[AD]\n",
    "\n",
    "print(AD_data_x.shape)\n",
    "print(AD_data_y.shape)\n"
   ]
  },
  {
   "cell_type": "code",
   "execution_count": 24,
   "metadata": {},
   "outputs": [
    {
     "name": "stdout",
     "output_type": "stream",
     "text": [
      "(465, 210)\n",
      "(465, 1)\n"
     ]
    }
   ],
   "source": [
    "\n",
    "ADvsNMCI_X=np.concatenate((AD_data_x, NMCI_data_x), axis=0)\n",
    "print(ADvsNMCI_X.shape)\n",
    "\n",
    "ADvsNMCI_Y=np.concatenate((AD_data_y, NMCI_data_y), axis=0)\n",
    "print(ADvsNMCI_Y.shape)"
   ]
  },
  {
   "cell_type": "code",
   "execution_count": 25,
   "metadata": {},
   "outputs": [
    {
     "name": "stdout",
     "output_type": "stream",
     "text": [
      "(372, 210)\n",
      "(93, 210)\n"
     ]
    }
   ],
   "source": [
    "from sklearn.model_selection import train_test_split\n",
    "X_train, X_test, y_train, y_test = train_test_split(ADvsNMCI_X,ADvsNMCI_Y, test_size=0.20, random_state=123)\n",
    "print(X_train.shape)\n",
    "print(X_test.shape)\n"
   ]
  },
  {
   "cell_type": "code",
   "execution_count": 26,
   "metadata": {},
   "outputs": [
    {
     "name": "stdout",
     "output_type": "stream",
     "text": [
      "==============================\n",
      "SVC\n",
      "****Results****\n",
      "Training 92.47%\n",
      "Accuracy 63.44%\n",
      "==============================\n",
      "RandomForestClassifier\n",
      "****Results****\n",
      "Training 100.00%\n",
      "Accuracy 63.44%\n",
      "==============================\n",
      "DecisionTreeClassifier\n",
      "****Results****\n",
      "Training 73.39%\n",
      "Accuracy 53.76%\n",
      "[00:43:39] WARNING: /Users/travis/build/dmlc/xgboost/src/learner.cc:1095: Starting in XGBoost 1.3.0, the default evaluation metric used with the objective 'binary:logistic' was changed from 'error' to 'logloss'. Explicitly set eval_metric if you'd like to restore the old behavior.\n"
     ]
    },
    {
     "name": "stderr",
     "output_type": "stream",
     "text": [
      "/opt/anaconda3/lib/python3.7/site-packages/xgboost/sklearn.py:1146: UserWarning: The use of label encoder in XGBClassifier is deprecated and will be removed in a future release. To remove this warning, do the following: 1) Pass option use_label_encoder=False when constructing XGBClassifier object; and 2) Encode your labels (y) as integers starting with 0, i.e. 0, 1, 2, ..., [num_class - 1].\n",
      "  warnings.warn(label_encoder_deprecation_msg, UserWarning)\n"
     ]
    },
    {
     "name": "stdout",
     "output_type": "stream",
     "text": [
      "==============================\n",
      "XGBClassifier\n",
      "****Results****\n",
      "Training 100.00%\n",
      "Accuracy 60.22%\n",
      "==============================\n"
     ]
    },
    {
     "data": {
      "text/html": [
       "<div>\n",
       "<style scoped>\n",
       "    .dataframe tbody tr th:only-of-type {\n",
       "        vertical-align: middle;\n",
       "    }\n",
       "\n",
       "    .dataframe tbody tr th {\n",
       "        vertical-align: top;\n",
       "    }\n",
       "\n",
       "    .dataframe thead th {\n",
       "        text-align: right;\n",
       "    }\n",
       "</style>\n",
       "<table border=\"1\" class=\"dataframe\">\n",
       "  <thead>\n",
       "    <tr style=\"text-align: right;\">\n",
       "      <th></th>\n",
       "      <th>Without_RD</th>\n",
       "    </tr>\n",
       "  </thead>\n",
       "  <tbody>\n",
       "    <tr>\n",
       "      <th>0</th>\n",
       "      <td>63.440860</td>\n",
       "    </tr>\n",
       "    <tr>\n",
       "      <th>1</th>\n",
       "      <td>63.440860</td>\n",
       "    </tr>\n",
       "    <tr>\n",
       "      <th>2</th>\n",
       "      <td>53.763441</td>\n",
       "    </tr>\n",
       "    <tr>\n",
       "      <th>3</th>\n",
       "      <td>60.215054</td>\n",
       "    </tr>\n",
       "  </tbody>\n",
       "</table>\n",
       "</div>"
      ],
      "text/plain": [
       "   Without_RD\n",
       "0   63.440860\n",
       "1   63.440860\n",
       "2   53.763441\n",
       "3   60.215054"
      ]
     },
     "execution_count": 26,
     "metadata": {},
     "output_type": "execute_result"
    }
   ],
   "source": [
    "\n",
    "feature_entry=[]\n",
    "for models in finalClassifiers:\n",
    "    models.fit(X_train, y_train.ravel())\n",
    "    name = models.__class__.__name__\n",
    "    \n",
    "    print(\"=\"*30)\n",
    "    print(name)\n",
    "    \n",
    "    print('****Results****')\n",
    "    train_predictions = models.predict(X_test)\n",
    "    trainingscore=models.score(X_train, y_train.ravel())\n",
    "    accuracy = accuracy_score(y_test.ravel(), train_predictions)\n",
    "    print(\"Training {:.2%}\".format(trainingscore))\n",
    "    print(\"Accuracy {:.2%}\".format(accuracy))\n",
    "\n",
    "    feature_entry.append([accuracy*100])\n",
    "\n",
    "    FeatureImportance_RD=pd.DataFrame(feature_entry[0:4],columns=[\"Without_RD\"])\n",
    "    \n",
    "print(\"=\"*30)\n",
    "FeatureImportance_RD"
   ]
  },
  {
   "cell_type": "code",
   "execution_count": 27,
   "metadata": {},
   "outputs": [
    {
     "name": "stdout",
     "output_type": "stream",
     "text": [
      "==============================\n",
      "SVC\n",
      "****Results****\n",
      "Training 92.47%\n",
      "Accuracy 63.44%\n",
      "==============================\n",
      "RandomForestClassifier\n",
      "****Results****\n",
      "Training 100.00%\n",
      "Accuracy 63.44%\n",
      "==============================\n",
      "DecisionTreeClassifier\n",
      "****Results****\n",
      "Training 73.39%\n",
      "Accuracy 53.76%\n",
      "[00:43:40] WARNING: /Users/travis/build/dmlc/xgboost/src/learner.cc:1095: Starting in XGBoost 1.3.0, the default evaluation metric used with the objective 'binary:logistic' was changed from 'error' to 'logloss'. Explicitly set eval_metric if you'd like to restore the old behavior.\n"
     ]
    },
    {
     "name": "stderr",
     "output_type": "stream",
     "text": [
      "/opt/anaconda3/lib/python3.7/site-packages/xgboost/sklearn.py:1146: UserWarning: The use of label encoder in XGBClassifier is deprecated and will be removed in a future release. To remove this warning, do the following: 1) Pass option use_label_encoder=False when constructing XGBClassifier object; and 2) Encode your labels (y) as integers starting with 0, i.e. 0, 1, 2, ..., [num_class - 1].\n",
      "  warnings.warn(label_encoder_deprecation_msg, UserWarning)\n"
     ]
    },
    {
     "name": "stdout",
     "output_type": "stream",
     "text": [
      "==============================\n",
      "XGBClassifier\n",
      "****Results****\n",
      "Training 100.00%\n",
      "Accuracy 60.22%\n"
     ]
    }
   ],
   "source": [
    "def models_trining_testing(X_train,y_train,X_test,y_test):\n",
    "    feature_entry=[]\n",
    "    for models in finalClassifiers:\n",
    "        models.fit(X_train, y_train.ravel())\n",
    "        name = models.__class__.__name__\n",
    "        print(\"=\"*30)\n",
    "        print(name)\n",
    "        print('****Results****')\n",
    "        train_predictions = models.predict(X_test)\n",
    "        trainingscore=models.score(X_train, y_train.ravel())\n",
    "        accuracy = accuracy_score(y_test.ravel(), train_predictions)\n",
    "        print(\"Training {:.2%}\".format(trainingscore))\n",
    "        print(\"Accuracy {:.2%}\".format(accuracy))\n",
    "        feature_entry.append([accuracy*100])\n",
    "        FeatureImportance_RD=pd.DataFrame(feature_entry[0:4],columns=[\"Without_RD\"])\n",
    "    \n",
    "# print(\"=\"*30)\n",
    "# FeatureImportance_RD\n",
    "testing=models_trining_testing(X_train,y_train,X_test,y_test)\n",
    "testing"
   ]
  },
  {
   "cell_type": "markdown",
   "metadata": {},
   "source": [
    "# AD vs MCI Training without AD"
   ]
  },
  {
   "cell_type": "code",
   "execution_count": 28,
   "metadata": {},
   "outputs": [],
   "source": [
    "#removing AD from the data\n",
    "combined_AD_Ex=np.concatenate((fa_feature_all_locations_scalPca,md_feature_all_locations_scalPca,rd_feature_all_locations_scalPca, \n",
    "                        cl_feature_all_locations_scalPca,curvature_feature_all_locations_scalPca,\n",
    "                        Torsion_feature_all_locations_scalPca,volume_feature_all_locations_scalPca),axis=1)"
   ]
  },
  {
   "cell_type": "code",
   "execution_count": 29,
   "metadata": {},
   "outputs": [
    {
     "name": "stdout",
     "output_type": "stream",
     "text": [
      "(235, 210)\n",
      "(235, 1)\n",
      "(215, 210)\n",
      "(215, 1)\n",
      "(250, 210)\n",
      "(250, 1)\n"
     ]
    }
   ],
   "source": [
    "NC_data_x = combined_AD_Ex[NC]\n",
    "NC_data_y = y[NC]\n",
    "\n",
    "print(NC_data_x.shape)\n",
    "print(NC_data_y.shape)\n",
    "\n",
    "\n",
    "NMCI_data_x =combined_AD_Ex[NMCI]\n",
    "NMCI_data_y = y[NMCI]\n",
    "\n",
    "print(NMCI_data_x.shape)\n",
    "print(NMCI_data_y.shape)\n",
    "\n",
    "AD_data_x = combined_AD_Ex[AD]\n",
    "AD_data_y = y[AD]\n",
    "\n",
    "print(AD_data_x.shape)\n",
    "print(AD_data_y.shape)\n"
   ]
  },
  {
   "cell_type": "code",
   "execution_count": 30,
   "metadata": {},
   "outputs": [
    {
     "name": "stdout",
     "output_type": "stream",
     "text": [
      "(465, 210)\n",
      "(465, 1)\n"
     ]
    }
   ],
   "source": [
    "\n",
    "ADvsNMCI_X=np.concatenate((AD_data_x, NMCI_data_x), axis=0)\n",
    "print(ADvsNMCI_X.shape)\n",
    "\n",
    "ADvsNMCI_Y=np.concatenate((AD_data_y, NMCI_data_y), axis=0)\n",
    "print(ADvsNMCI_Y.shape)"
   ]
  },
  {
   "cell_type": "code",
   "execution_count": 31,
   "metadata": {},
   "outputs": [
    {
     "name": "stdout",
     "output_type": "stream",
     "text": [
      "(372, 210)\n",
      "(93, 210)\n"
     ]
    }
   ],
   "source": [
    "from sklearn.model_selection import train_test_split\n",
    "X_train, X_test, y_train, y_test = train_test_split(ADvsNMCI_X,ADvsNMCI_Y, test_size=0.20, random_state=123)\n",
    "print(X_train.shape)\n",
    "print(X_test.shape)\n"
   ]
  },
  {
   "cell_type": "code",
   "execution_count": 32,
   "metadata": {},
   "outputs": [
    {
     "name": "stdout",
     "output_type": "stream",
     "text": [
      "==============================\n",
      "SVC\n",
      "****Results****\n",
      "Training 91.94%\n",
      "Accuracy 63.44%\n",
      "==============================\n",
      "RandomForestClassifier\n",
      "****Results****\n",
      "Training 100.00%\n",
      "Accuracy 67.74%\n",
      "==============================\n",
      "DecisionTreeClassifier\n",
      "****Results****\n",
      "Training 73.66%\n",
      "Accuracy 54.84%\n",
      "[00:43:41] WARNING: /Users/travis/build/dmlc/xgboost/src/learner.cc:1095: Starting in XGBoost 1.3.0, the default evaluation metric used with the objective 'binary:logistic' was changed from 'error' to 'logloss'. Explicitly set eval_metric if you'd like to restore the old behavior.\n"
     ]
    },
    {
     "name": "stderr",
     "output_type": "stream",
     "text": [
      "/opt/anaconda3/lib/python3.7/site-packages/xgboost/sklearn.py:1146: UserWarning: The use of label encoder in XGBClassifier is deprecated and will be removed in a future release. To remove this warning, do the following: 1) Pass option use_label_encoder=False when constructing XGBClassifier object; and 2) Encode your labels (y) as integers starting with 0, i.e. 0, 1, 2, ..., [num_class - 1].\n",
      "  warnings.warn(label_encoder_deprecation_msg, UserWarning)\n"
     ]
    },
    {
     "name": "stdout",
     "output_type": "stream",
     "text": [
      "==============================\n",
      "XGBClassifier\n",
      "****Results****\n",
      "Training 100.00%\n",
      "Accuracy 52.69%\n",
      "==============================\n"
     ]
    },
    {
     "data": {
      "text/html": [
       "<div>\n",
       "<style scoped>\n",
       "    .dataframe tbody tr th:only-of-type {\n",
       "        vertical-align: middle;\n",
       "    }\n",
       "\n",
       "    .dataframe tbody tr th {\n",
       "        vertical-align: top;\n",
       "    }\n",
       "\n",
       "    .dataframe thead th {\n",
       "        text-align: right;\n",
       "    }\n",
       "</style>\n",
       "<table border=\"1\" class=\"dataframe\">\n",
       "  <thead>\n",
       "    <tr style=\"text-align: right;\">\n",
       "      <th></th>\n",
       "      <th>Without_AD</th>\n",
       "    </tr>\n",
       "  </thead>\n",
       "  <tbody>\n",
       "    <tr>\n",
       "      <th>0</th>\n",
       "      <td>63.440860</td>\n",
       "    </tr>\n",
       "    <tr>\n",
       "      <th>1</th>\n",
       "      <td>67.741935</td>\n",
       "    </tr>\n",
       "    <tr>\n",
       "      <th>2</th>\n",
       "      <td>54.838710</td>\n",
       "    </tr>\n",
       "    <tr>\n",
       "      <th>3</th>\n",
       "      <td>52.688172</td>\n",
       "    </tr>\n",
       "  </tbody>\n",
       "</table>\n",
       "</div>"
      ],
      "text/plain": [
       "   Without_AD\n",
       "0   63.440860\n",
       "1   67.741935\n",
       "2   54.838710\n",
       "3   52.688172"
      ]
     },
     "execution_count": 32,
     "metadata": {},
     "output_type": "execute_result"
    }
   ],
   "source": [
    "feature_entry=[]\n",
    "for models in finalClassifiers:\n",
    "    models.fit(X_train, y_train.ravel())\n",
    "    name = models.__class__.__name__\n",
    "    \n",
    "    print(\"=\"*30)\n",
    "    print(name)\n",
    "    \n",
    "    print('****Results****')\n",
    "    train_predictions = models.predict(X_test)\n",
    "    trainingscore=models.score(X_train, y_train.ravel())\n",
    "    accuracy = accuracy_score(y_test.ravel(), train_predictions)\n",
    "    print(\"Training {:.2%}\".format(trainingscore))\n",
    "    print(\"Accuracy {:.2%}\".format(accuracy))\n",
    "\n",
    "    feature_entry.append([accuracy*100])\n",
    "\n",
    "    FeatureImportance_AD=pd.DataFrame(feature_entry[0:4],columns=[\"Without_AD\"])\n",
    "    \n",
    "print(\"=\"*30)\n",
    "FeatureImportance_AD"
   ]
  },
  {
   "cell_type": "markdown",
   "metadata": {},
   "source": [
    "# AD vs MCI Training without CL"
   ]
  },
  {
   "cell_type": "code",
   "execution_count": 33,
   "metadata": {},
   "outputs": [],
   "source": [
    "#removing cl from the data\n",
    "combined_CL_Ex=np.concatenate((fa_feature_all_locations_scalPca,md_feature_all_locations_scalPca,rd_feature_all_locations_scalPca, \n",
    "                        ad_feature_all_locations_scalPca,curvature_feature_all_locations_scalPca,\n",
    "                        Torsion_feature_all_locations_scalPca,volume_feature_all_locations_scalPca),axis=1)"
   ]
  },
  {
   "cell_type": "code",
   "execution_count": 34,
   "metadata": {},
   "outputs": [
    {
     "name": "stdout",
     "output_type": "stream",
     "text": [
      "(235, 210)\n",
      "(235, 1)\n",
      "(215, 210)\n",
      "(215, 1)\n",
      "(250, 210)\n",
      "(250, 1)\n"
     ]
    }
   ],
   "source": [
    "NC_data_x = combined_CL_Ex[NC]\n",
    "NC_data_y = y[NC]\n",
    "\n",
    "print(NC_data_x.shape)\n",
    "print(NC_data_y.shape)\n",
    "\n",
    "\n",
    "NMCI_data_x =combined_CL_Ex[NMCI]\n",
    "NMCI_data_y = y[NMCI]\n",
    "\n",
    "print(NMCI_data_x.shape)\n",
    "print(NMCI_data_y.shape)\n",
    "\n",
    "AD_data_x = combined_CL_Ex[AD]\n",
    "AD_data_y = y[AD]\n",
    "\n",
    "print(AD_data_x.shape)\n",
    "print(AD_data_y.shape)\n"
   ]
  },
  {
   "cell_type": "code",
   "execution_count": 35,
   "metadata": {},
   "outputs": [
    {
     "name": "stdout",
     "output_type": "stream",
     "text": [
      "(465, 210)\n",
      "(465, 1)\n"
     ]
    }
   ],
   "source": [
    "\n",
    "ADvsNMCI_X=np.concatenate((AD_data_x, NMCI_data_x), axis=0)\n",
    "print(ADvsNMCI_X.shape)\n",
    "\n",
    "ADvsNMCI_Y=np.concatenate((AD_data_y, NMCI_data_y), axis=0)\n",
    "print(ADvsNMCI_Y.shape)"
   ]
  },
  {
   "cell_type": "code",
   "execution_count": 36,
   "metadata": {},
   "outputs": [
    {
     "name": "stdout",
     "output_type": "stream",
     "text": [
      "(372, 210)\n",
      "(93, 210)\n"
     ]
    }
   ],
   "source": [
    "from sklearn.model_selection import train_test_split\n",
    "X_train, X_test, y_train, y_test = train_test_split(ADvsNMCI_X,ADvsNMCI_Y, test_size=0.20, random_state=123)\n",
    "print(X_train.shape)\n",
    "print(X_test.shape)\n"
   ]
  },
  {
   "cell_type": "code",
   "execution_count": 37,
   "metadata": {},
   "outputs": [
    {
     "name": "stdout",
     "output_type": "stream",
     "text": [
      "==============================\n",
      "SVC\n",
      "****Results****\n",
      "Training 92.47%\n",
      "Accuracy 64.52%\n",
      "==============================\n",
      "RandomForestClassifier\n",
      "****Results****\n",
      "Training 100.00%\n",
      "Accuracy 67.74%\n",
      "==============================\n",
      "DecisionTreeClassifier\n",
      "****Results****\n",
      "Training 72.04%\n",
      "Accuracy 58.06%\n",
      "[00:43:42] WARNING: /Users/travis/build/dmlc/xgboost/src/learner.cc:1095: Starting in XGBoost 1.3.0, the default evaluation metric used with the objective 'binary:logistic' was changed from 'error' to 'logloss'. Explicitly set eval_metric if you'd like to restore the old behavior.\n"
     ]
    },
    {
     "name": "stderr",
     "output_type": "stream",
     "text": [
      "/opt/anaconda3/lib/python3.7/site-packages/xgboost/sklearn.py:1146: UserWarning: The use of label encoder in XGBClassifier is deprecated and will be removed in a future release. To remove this warning, do the following: 1) Pass option use_label_encoder=False when constructing XGBClassifier object; and 2) Encode your labels (y) as integers starting with 0, i.e. 0, 1, 2, ..., [num_class - 1].\n",
      "  warnings.warn(label_encoder_deprecation_msg, UserWarning)\n"
     ]
    },
    {
     "name": "stdout",
     "output_type": "stream",
     "text": [
      "==============================\n",
      "XGBClassifier\n",
      "****Results****\n",
      "Training 100.00%\n",
      "Accuracy 66.67%\n",
      "==============================\n"
     ]
    },
    {
     "data": {
      "text/html": [
       "<div>\n",
       "<style scoped>\n",
       "    .dataframe tbody tr th:only-of-type {\n",
       "        vertical-align: middle;\n",
       "    }\n",
       "\n",
       "    .dataframe tbody tr th {\n",
       "        vertical-align: top;\n",
       "    }\n",
       "\n",
       "    .dataframe thead th {\n",
       "        text-align: right;\n",
       "    }\n",
       "</style>\n",
       "<table border=\"1\" class=\"dataframe\">\n",
       "  <thead>\n",
       "    <tr style=\"text-align: right;\">\n",
       "      <th></th>\n",
       "      <th>Without_CL</th>\n",
       "    </tr>\n",
       "  </thead>\n",
       "  <tbody>\n",
       "    <tr>\n",
       "      <th>0</th>\n",
       "      <td>64.516129</td>\n",
       "    </tr>\n",
       "    <tr>\n",
       "      <th>1</th>\n",
       "      <td>67.741935</td>\n",
       "    </tr>\n",
       "    <tr>\n",
       "      <th>2</th>\n",
       "      <td>58.064516</td>\n",
       "    </tr>\n",
       "    <tr>\n",
       "      <th>3</th>\n",
       "      <td>66.666667</td>\n",
       "    </tr>\n",
       "  </tbody>\n",
       "</table>\n",
       "</div>"
      ],
      "text/plain": [
       "   Without_CL\n",
       "0   64.516129\n",
       "1   67.741935\n",
       "2   58.064516\n",
       "3   66.666667"
      ]
     },
     "execution_count": 37,
     "metadata": {},
     "output_type": "execute_result"
    }
   ],
   "source": [
    "feature_entry=[]\n",
    "for models in finalClassifiers:\n",
    "    models.fit(X_train, y_train.ravel())\n",
    "    name = models.__class__.__name__\n",
    "    \n",
    "    print(\"=\"*30)\n",
    "    print(name)\n",
    "    \n",
    "    print('****Results****')\n",
    "    train_predictions = models.predict(X_test)\n",
    "    trainingscore=models.score(X_train, y_train.ravel())\n",
    "    accuracy = accuracy_score(y_test.ravel(), train_predictions)\n",
    "    print(\"Training {:.2%}\".format(trainingscore))\n",
    "    print(\"Accuracy {:.2%}\".format(accuracy))\n",
    "\n",
    "    feature_entry.append([accuracy*100])\n",
    "\n",
    "    FeatureImportance_CL=pd.DataFrame(feature_entry[0:4],columns=[\"Without_CL\"])\n",
    "    \n",
    "print(\"=\"*30)\n",
    "FeatureImportance_CL"
   ]
  },
  {
   "cell_type": "markdown",
   "metadata": {},
   "source": [
    "# AD vs MCI Training without Curvature"
   ]
  },
  {
   "cell_type": "code",
   "execution_count": 38,
   "metadata": {},
   "outputs": [],
   "source": [
    "#removing Curvature from the data\n",
    "combined_CUR_Ex=np.concatenate((fa_feature_all_locations_scalPca,md_feature_all_locations_scalPca,rd_feature_all_locations_scalPca, \n",
    "                        ad_feature_all_locations_scalPca,cl_feature_all_locations_scalPca,\n",
    "                        Torsion_feature_all_locations_scalPca,volume_feature_all_locations_scalPca),axis=1)"
   ]
  },
  {
   "cell_type": "code",
   "execution_count": 39,
   "metadata": {},
   "outputs": [
    {
     "name": "stdout",
     "output_type": "stream",
     "text": [
      "(235, 210)\n",
      "(235, 1)\n",
      "(215, 210)\n",
      "(215, 1)\n",
      "(250, 210)\n",
      "(250, 1)\n"
     ]
    }
   ],
   "source": [
    "NC_data_x = combined_CUR_Ex[NC]\n",
    "NC_data_y = y[NC]\n",
    "\n",
    "print(NC_data_x.shape)\n",
    "print(NC_data_y.shape)\n",
    "\n",
    "\n",
    "NMCI_data_x =combined_CUR_Ex[NMCI]\n",
    "NMCI_data_y = y[NMCI]\n",
    "\n",
    "print(NMCI_data_x.shape)\n",
    "print(NMCI_data_y.shape)\n",
    "\n",
    "AD_data_x = combined_CUR_Ex[AD]\n",
    "AD_data_y = y[AD]\n",
    "\n",
    "print(AD_data_x.shape)\n",
    "print(AD_data_y.shape)\n"
   ]
  },
  {
   "cell_type": "code",
   "execution_count": 40,
   "metadata": {},
   "outputs": [
    {
     "name": "stdout",
     "output_type": "stream",
     "text": [
      "(465, 210)\n",
      "(465, 1)\n"
     ]
    }
   ],
   "source": [
    "\n",
    "ADvsNMCI_X=np.concatenate((AD_data_x, NMCI_data_x), axis=0)\n",
    "print(ADvsNMCI_X.shape)\n",
    "\n",
    "ADvsNMCI_Y=np.concatenate((AD_data_y, NMCI_data_y), axis=0)\n",
    "print(ADvsNMCI_Y.shape)"
   ]
  },
  {
   "cell_type": "code",
   "execution_count": 41,
   "metadata": {},
   "outputs": [
    {
     "name": "stdout",
     "output_type": "stream",
     "text": [
      "(372, 210)\n",
      "(93, 210)\n"
     ]
    }
   ],
   "source": [
    "from sklearn.model_selection import train_test_split\n",
    "X_train, X_test, y_train, y_test = train_test_split(ADvsNMCI_X,ADvsNMCI_Y, test_size=0.20, random_state=123)\n",
    "print(X_train.shape)\n",
    "print(X_test.shape)\n"
   ]
  },
  {
   "cell_type": "code",
   "execution_count": 42,
   "metadata": {},
   "outputs": [
    {
     "name": "stdout",
     "output_type": "stream",
     "text": [
      "==============================\n",
      "SVC\n",
      "****Results****\n",
      "Training 91.40%\n",
      "Accuracy 61.29%\n",
      "==============================\n",
      "RandomForestClassifier\n",
      "****Results****\n",
      "Training 100.00%\n",
      "Accuracy 62.37%\n",
      "==============================\n",
      "DecisionTreeClassifier\n",
      "****Results****\n",
      "Training 72.31%\n",
      "Accuracy 52.69%\n",
      "[00:43:43] WARNING: /Users/travis/build/dmlc/xgboost/src/learner.cc:1095: Starting in XGBoost 1.3.0, the default evaluation metric used with the objective 'binary:logistic' was changed from 'error' to 'logloss'. Explicitly set eval_metric if you'd like to restore the old behavior.\n"
     ]
    },
    {
     "name": "stderr",
     "output_type": "stream",
     "text": [
      "/opt/anaconda3/lib/python3.7/site-packages/xgboost/sklearn.py:1146: UserWarning: The use of label encoder in XGBClassifier is deprecated and will be removed in a future release. To remove this warning, do the following: 1) Pass option use_label_encoder=False when constructing XGBClassifier object; and 2) Encode your labels (y) as integers starting with 0, i.e. 0, 1, 2, ..., [num_class - 1].\n",
      "  warnings.warn(label_encoder_deprecation_msg, UserWarning)\n"
     ]
    },
    {
     "name": "stdout",
     "output_type": "stream",
     "text": [
      "==============================\n",
      "XGBClassifier\n",
      "****Results****\n",
      "Training 100.00%\n",
      "Accuracy 61.29%\n",
      "==============================\n"
     ]
    },
    {
     "data": {
      "text/html": [
       "<div>\n",
       "<style scoped>\n",
       "    .dataframe tbody tr th:only-of-type {\n",
       "        vertical-align: middle;\n",
       "    }\n",
       "\n",
       "    .dataframe tbody tr th {\n",
       "        vertical-align: top;\n",
       "    }\n",
       "\n",
       "    .dataframe thead th {\n",
       "        text-align: right;\n",
       "    }\n",
       "</style>\n",
       "<table border=\"1\" class=\"dataframe\">\n",
       "  <thead>\n",
       "    <tr style=\"text-align: right;\">\n",
       "      <th></th>\n",
       "      <th>Without_Curvature</th>\n",
       "    </tr>\n",
       "  </thead>\n",
       "  <tbody>\n",
       "    <tr>\n",
       "      <th>0</th>\n",
       "      <td>61.290323</td>\n",
       "    </tr>\n",
       "    <tr>\n",
       "      <th>1</th>\n",
       "      <td>62.365591</td>\n",
       "    </tr>\n",
       "    <tr>\n",
       "      <th>2</th>\n",
       "      <td>52.688172</td>\n",
       "    </tr>\n",
       "    <tr>\n",
       "      <th>3</th>\n",
       "      <td>61.290323</td>\n",
       "    </tr>\n",
       "  </tbody>\n",
       "</table>\n",
       "</div>"
      ],
      "text/plain": [
       "   Without_Curvature\n",
       "0          61.290323\n",
       "1          62.365591\n",
       "2          52.688172\n",
       "3          61.290323"
      ]
     },
     "execution_count": 42,
     "metadata": {},
     "output_type": "execute_result"
    }
   ],
   "source": [
    "feature_entry=[]\n",
    "for models in finalClassifiers:\n",
    "    models.fit(X_train, y_train.ravel())\n",
    "    name = models.__class__.__name__\n",
    "    \n",
    "    print(\"=\"*30)\n",
    "    print(name)\n",
    "    \n",
    "    print('****Results****')\n",
    "    train_predictions = models.predict(X_test)\n",
    "    trainingscore=models.score(X_train, y_train.ravel())\n",
    "    accuracy = accuracy_score(y_test.ravel(), train_predictions)\n",
    "    print(\"Training {:.2%}\".format(trainingscore))\n",
    "    print(\"Accuracy {:.2%}\".format(accuracy))\n",
    "\n",
    "    feature_entry.append([accuracy*100])\n",
    "\n",
    "    FeatureImportance_cur=pd.DataFrame(feature_entry[0:4],columns=[\"Without_Curvature\"])\n",
    "    \n",
    "print(\"=\"*30)\n",
    "FeatureImportance_cur"
   ]
  },
  {
   "cell_type": "markdown",
   "metadata": {},
   "source": [
    "# AD vs MCI Training without Torsion"
   ]
  },
  {
   "cell_type": "code",
   "execution_count": 43,
   "metadata": {},
   "outputs": [],
   "source": [
    "#removing Torsion from the data\n",
    "combined_Tor_Ex=np.concatenate((fa_feature_all_locations_scalPca,md_feature_all_locations_scalPca,rd_feature_all_locations_scalPca, \n",
    "                        ad_feature_all_locations_scalPca,cl_feature_all_locations_scalPca,curvature_feature_all_locations_scalPca,\n",
    "                        volume_feature_all_locations_scalPca),axis=1)"
   ]
  },
  {
   "cell_type": "code",
   "execution_count": 44,
   "metadata": {},
   "outputs": [
    {
     "name": "stdout",
     "output_type": "stream",
     "text": [
      "(235, 210)\n",
      "(235, 1)\n",
      "(215, 210)\n",
      "(215, 1)\n",
      "(250, 210)\n",
      "(250, 1)\n"
     ]
    }
   ],
   "source": [
    "NC_data_x = combined_Tor_Ex[NC]\n",
    "NC_data_y = y[NC]\n",
    "\n",
    "print(NC_data_x.shape)\n",
    "print(NC_data_y.shape)\n",
    "\n",
    "\n",
    "NMCI_data_x =combined_Tor_Ex[NMCI]\n",
    "NMCI_data_y = y[NMCI]\n",
    "\n",
    "print(NMCI_data_x.shape)\n",
    "print(NMCI_data_y.shape)\n",
    "\n",
    "AD_data_x = combined_Tor_Ex[AD]\n",
    "AD_data_y = y[AD]\n",
    "\n",
    "print(AD_data_x.shape)\n",
    "print(AD_data_y.shape)\n"
   ]
  },
  {
   "cell_type": "code",
   "execution_count": 45,
   "metadata": {},
   "outputs": [
    {
     "name": "stdout",
     "output_type": "stream",
     "text": [
      "(465, 210)\n",
      "(465, 1)\n"
     ]
    }
   ],
   "source": [
    "\n",
    "ADvsNMCI_X=np.concatenate((AD_data_x, NMCI_data_x), axis=0)\n",
    "print(ADvsNMCI_X.shape)\n",
    "\n",
    "ADvsNMCI_Y=np.concatenate((AD_data_y, NMCI_data_y), axis=0)\n",
    "print(ADvsNMCI_Y.shape)"
   ]
  },
  {
   "cell_type": "code",
   "execution_count": 46,
   "metadata": {},
   "outputs": [
    {
     "name": "stdout",
     "output_type": "stream",
     "text": [
      "(372, 210)\n",
      "(93, 210)\n"
     ]
    }
   ],
   "source": [
    "from sklearn.model_selection import train_test_split\n",
    "X_train, X_test, y_train, y_test = train_test_split(ADvsNMCI_X,ADvsNMCI_Y, test_size=0.20, random_state=123)\n",
    "print(X_train.shape)\n",
    "print(X_test.shape)\n"
   ]
  },
  {
   "cell_type": "code",
   "execution_count": 47,
   "metadata": {},
   "outputs": [
    {
     "name": "stdout",
     "output_type": "stream",
     "text": [
      "==============================\n",
      "SVC\n",
      "****Results****\n",
      "Training 92.74%\n",
      "Accuracy 63.44%\n",
      "==============================\n",
      "RandomForestClassifier\n",
      "****Results****\n",
      "Training 100.00%\n",
      "Accuracy 65.59%\n",
      "==============================\n",
      "DecisionTreeClassifier\n",
      "****Results****\n",
      "Training 73.92%\n",
      "Accuracy 53.76%\n",
      "[00:43:44] WARNING: /Users/travis/build/dmlc/xgboost/src/learner.cc:1095: Starting in XGBoost 1.3.0, the default evaluation metric used with the objective 'binary:logistic' was changed from 'error' to 'logloss'. Explicitly set eval_metric if you'd like to restore the old behavior.\n"
     ]
    },
    {
     "name": "stderr",
     "output_type": "stream",
     "text": [
      "/opt/anaconda3/lib/python3.7/site-packages/xgboost/sklearn.py:1146: UserWarning: The use of label encoder in XGBClassifier is deprecated and will be removed in a future release. To remove this warning, do the following: 1) Pass option use_label_encoder=False when constructing XGBClassifier object; and 2) Encode your labels (y) as integers starting with 0, i.e. 0, 1, 2, ..., [num_class - 1].\n",
      "  warnings.warn(label_encoder_deprecation_msg, UserWarning)\n"
     ]
    },
    {
     "name": "stdout",
     "output_type": "stream",
     "text": [
      "==============================\n",
      "XGBClassifier\n",
      "****Results****\n",
      "Training 100.00%\n",
      "Accuracy 59.14%\n",
      "==============================\n"
     ]
    },
    {
     "data": {
      "text/html": [
       "<div>\n",
       "<style scoped>\n",
       "    .dataframe tbody tr th:only-of-type {\n",
       "        vertical-align: middle;\n",
       "    }\n",
       "\n",
       "    .dataframe tbody tr th {\n",
       "        vertical-align: top;\n",
       "    }\n",
       "\n",
       "    .dataframe thead th {\n",
       "        text-align: right;\n",
       "    }\n",
       "</style>\n",
       "<table border=\"1\" class=\"dataframe\">\n",
       "  <thead>\n",
       "    <tr style=\"text-align: right;\">\n",
       "      <th></th>\n",
       "      <th>Without_Torsion</th>\n",
       "    </tr>\n",
       "  </thead>\n",
       "  <tbody>\n",
       "    <tr>\n",
       "      <th>0</th>\n",
       "      <td>63.440860</td>\n",
       "    </tr>\n",
       "    <tr>\n",
       "      <th>1</th>\n",
       "      <td>65.591398</td>\n",
       "    </tr>\n",
       "    <tr>\n",
       "      <th>2</th>\n",
       "      <td>53.763441</td>\n",
       "    </tr>\n",
       "    <tr>\n",
       "      <th>3</th>\n",
       "      <td>59.139785</td>\n",
       "    </tr>\n",
       "  </tbody>\n",
       "</table>\n",
       "</div>"
      ],
      "text/plain": [
       "   Without_Torsion\n",
       "0        63.440860\n",
       "1        65.591398\n",
       "2        53.763441\n",
       "3        59.139785"
      ]
     },
     "execution_count": 47,
     "metadata": {},
     "output_type": "execute_result"
    }
   ],
   "source": [
    "feature_entry=[]\n",
    "for models in finalClassifiers:\n",
    "    models.fit(X_train, y_train.ravel())\n",
    "    name = models.__class__.__name__\n",
    "    \n",
    "    print(\"=\"*30)\n",
    "    print(name)\n",
    "    \n",
    "    print('****Results****')\n",
    "    train_predictions = models.predict(X_test)\n",
    "    trainingscore=models.score(X_train, y_train.ravel())\n",
    "    accuracy = accuracy_score(y_test.ravel(), train_predictions)\n",
    "    print(\"Training {:.2%}\".format(trainingscore))\n",
    "    print(\"Accuracy {:.2%}\".format(accuracy))\n",
    "\n",
    "    feature_entry.append([accuracy*100])\n",
    "\n",
    "    FeatureImportance_tor=pd.DataFrame(feature_entry[0:4],columns=[\"Without_Torsion\"])\n",
    "    \n",
    "print(\"=\"*30)\n",
    "FeatureImportance_tor"
   ]
  },
  {
   "cell_type": "markdown",
   "metadata": {},
   "source": [
    "# AD vs MCI Training without Volume"
   ]
  },
  {
   "cell_type": "code",
   "execution_count": 48,
   "metadata": {},
   "outputs": [],
   "source": [
    "#removing Volume from the data\n",
    "combined_Vol_Ex=np.concatenate((fa_feature_all_locations_scalPca,md_feature_all_locations_scalPca,rd_feature_all_locations_scalPca, \n",
    "                        ad_feature_all_locations_scalPca,cl_feature_all_locations_scalPca,curvature_feature_all_locations_scalPca,\n",
    "                        Torsion_feature_all_locations_scalPca),axis=1)"
   ]
  },
  {
   "cell_type": "code",
   "execution_count": 49,
   "metadata": {},
   "outputs": [
    {
     "name": "stdout",
     "output_type": "stream",
     "text": [
      "(235, 210)\n",
      "(235, 1)\n",
      "(215, 210)\n",
      "(215, 1)\n",
      "(250, 210)\n",
      "(250, 1)\n"
     ]
    }
   ],
   "source": [
    "NC_data_x = combined_Vol_Ex[NC]\n",
    "NC_data_y = y[NC]\n",
    "\n",
    "print(NC_data_x.shape)\n",
    "print(NC_data_y.shape)\n",
    "\n",
    "\n",
    "NMCI_data_x =combined_Vol_Ex[NMCI]\n",
    "NMCI_data_y = y[NMCI]\n",
    "\n",
    "print(NMCI_data_x.shape)\n",
    "print(NMCI_data_y.shape)\n",
    "\n",
    "AD_data_x = combined_Vol_Ex[AD]\n",
    "AD_data_y = y[AD]\n",
    "\n",
    "print(AD_data_x.shape)\n",
    "print(AD_data_y.shape)\n"
   ]
  },
  {
   "cell_type": "code",
   "execution_count": 50,
   "metadata": {},
   "outputs": [
    {
     "name": "stdout",
     "output_type": "stream",
     "text": [
      "(465, 210)\n",
      "(465, 1)\n"
     ]
    }
   ],
   "source": [
    "\n",
    "ADvsNMCI_X=np.concatenate((AD_data_x, NMCI_data_x), axis=0)\n",
    "print(ADvsNMCI_X.shape)\n",
    "\n",
    "ADvsNMCI_Y=np.concatenate((AD_data_y, NMCI_data_y), axis=0)\n",
    "print(ADvsNMCI_Y.shape)"
   ]
  },
  {
   "cell_type": "code",
   "execution_count": 51,
   "metadata": {},
   "outputs": [
    {
     "name": "stdout",
     "output_type": "stream",
     "text": [
      "(372, 210)\n",
      "(93, 210)\n"
     ]
    }
   ],
   "source": [
    "from sklearn.model_selection import train_test_split\n",
    "X_train, X_test, y_train, y_test = train_test_split(ADvsNMCI_X,ADvsNMCI_Y, test_size=0.20, random_state=123)\n",
    "print(X_train.shape)\n",
    "print(X_test.shape)\n"
   ]
  },
  {
   "cell_type": "code",
   "execution_count": 52,
   "metadata": {},
   "outputs": [
    {
     "name": "stdout",
     "output_type": "stream",
     "text": [
      "==============================\n",
      "SVC\n",
      "****Results****\n",
      "Training 90.32%\n",
      "Accuracy 69.89%\n",
      "==============================\n",
      "RandomForestClassifier\n",
      "****Results****\n",
      "Training 100.00%\n",
      "Accuracy 62.37%\n",
      "==============================\n",
      "DecisionTreeClassifier\n",
      "****Results****\n",
      "Training 73.92%\n",
      "Accuracy 53.76%\n",
      "[00:43:45] WARNING: /Users/travis/build/dmlc/xgboost/src/learner.cc:1095: Starting in XGBoost 1.3.0, the default evaluation metric used with the objective 'binary:logistic' was changed from 'error' to 'logloss'. Explicitly set eval_metric if you'd like to restore the old behavior.\n"
     ]
    },
    {
     "name": "stderr",
     "output_type": "stream",
     "text": [
      "/opt/anaconda3/lib/python3.7/site-packages/xgboost/sklearn.py:1146: UserWarning: The use of label encoder in XGBClassifier is deprecated and will be removed in a future release. To remove this warning, do the following: 1) Pass option use_label_encoder=False when constructing XGBClassifier object; and 2) Encode your labels (y) as integers starting with 0, i.e. 0, 1, 2, ..., [num_class - 1].\n",
      "  warnings.warn(label_encoder_deprecation_msg, UserWarning)\n"
     ]
    },
    {
     "name": "stdout",
     "output_type": "stream",
     "text": [
      "==============================\n",
      "XGBClassifier\n",
      "****Results****\n",
      "Training 100.00%\n",
      "Accuracy 65.59%\n",
      "==============================\n"
     ]
    },
    {
     "data": {
      "text/html": [
       "<div>\n",
       "<style scoped>\n",
       "    .dataframe tbody tr th:only-of-type {\n",
       "        vertical-align: middle;\n",
       "    }\n",
       "\n",
       "    .dataframe tbody tr th {\n",
       "        vertical-align: top;\n",
       "    }\n",
       "\n",
       "    .dataframe thead th {\n",
       "        text-align: right;\n",
       "    }\n",
       "</style>\n",
       "<table border=\"1\" class=\"dataframe\">\n",
       "  <thead>\n",
       "    <tr style=\"text-align: right;\">\n",
       "      <th></th>\n",
       "      <th>SVM</th>\n",
       "      <th>Random_Forest</th>\n",
       "      <th>Decision_Tree</th>\n",
       "      <th>XG_Boost</th>\n",
       "    </tr>\n",
       "  </thead>\n",
       "  <tbody>\n",
       "    <tr>\n",
       "      <th>All Features</th>\n",
       "      <td>63.4409</td>\n",
       "      <td>64.5161</td>\n",
       "      <td>53.7634</td>\n",
       "      <td>56.9892</td>\n",
       "    </tr>\n",
       "    <tr>\n",
       "      <th>Without_FA</th>\n",
       "      <td>62.3656</td>\n",
       "      <td>64.5161</td>\n",
       "      <td>51.6129</td>\n",
       "      <td>54.8387</td>\n",
       "    </tr>\n",
       "    <tr>\n",
       "      <th>Without_MA</th>\n",
       "      <td>64.5161</td>\n",
       "      <td>61.2903</td>\n",
       "      <td>53.7634</td>\n",
       "      <td>54.8387</td>\n",
       "    </tr>\n",
       "    <tr>\n",
       "      <th>Without_RD</th>\n",
       "      <td>63.4409</td>\n",
       "      <td>63.4409</td>\n",
       "      <td>53.7634</td>\n",
       "      <td>60.2151</td>\n",
       "    </tr>\n",
       "    <tr>\n",
       "      <th>Without_AD</th>\n",
       "      <td>63.4409</td>\n",
       "      <td>67.7419</td>\n",
       "      <td>54.8387</td>\n",
       "      <td>52.6882</td>\n",
       "    </tr>\n",
       "    <tr>\n",
       "      <th>Without_CL</th>\n",
       "      <td>64.5161</td>\n",
       "      <td>67.7419</td>\n",
       "      <td>58.0645</td>\n",
       "      <td>66.6667</td>\n",
       "    </tr>\n",
       "    <tr>\n",
       "      <th>Without_Curvature</th>\n",
       "      <td>61.2903</td>\n",
       "      <td>62.3656</td>\n",
       "      <td>52.6882</td>\n",
       "      <td>61.2903</td>\n",
       "    </tr>\n",
       "    <tr>\n",
       "      <th>Without_Torsion</th>\n",
       "      <td>63.4409</td>\n",
       "      <td>65.5914</td>\n",
       "      <td>53.7634</td>\n",
       "      <td>59.1398</td>\n",
       "    </tr>\n",
       "    <tr>\n",
       "      <th>Without_Volume</th>\n",
       "      <td>69.8925</td>\n",
       "      <td>62.3656</td>\n",
       "      <td>53.7634</td>\n",
       "      <td>65.5914</td>\n",
       "    </tr>\n",
       "  </tbody>\n",
       "</table>\n",
       "</div>"
      ],
      "text/plain": [
       "                       SVM Random_Forest Decision_Tree XG_Boost\n",
       "All Features       63.4409       64.5161       53.7634  56.9892\n",
       "Without_FA         62.3656       64.5161       51.6129  54.8387\n",
       "Without_MA         64.5161       61.2903       53.7634  54.8387\n",
       "Without_RD         63.4409       63.4409       53.7634  60.2151\n",
       "Without_AD         63.4409       67.7419       54.8387  52.6882\n",
       "Without_CL         64.5161       67.7419       58.0645  66.6667\n",
       "Without_Curvature  61.2903       62.3656       52.6882  61.2903\n",
       "Without_Torsion    63.4409       65.5914       53.7634  59.1398\n",
       "Without_Volume     69.8925       62.3656       53.7634  65.5914"
      ]
     },
     "execution_count": 52,
     "metadata": {},
     "output_type": "execute_result"
    }
   ],
   "source": [
    "feature_entry=[]\n",
    "for models in finalClassifiers:\n",
    "    models.fit(X_train, y_train.ravel())\n",
    "    name = models.__class__.__name__\n",
    "    \n",
    "    print(\"=\"*30)\n",
    "    print(name)\n",
    "    \n",
    "    print('****Results****')\n",
    "    train_predictions = models.predict(X_test)\n",
    "    trainingscore=models.score(X_train, y_train.ravel())\n",
    "    accuracy = accuracy_score(y_test.ravel(), train_predictions)\n",
    "    print(\"Training {:.2%}\".format(trainingscore))\n",
    "    print(\"Accuracy {:.2%}\".format(accuracy))\n",
    "\n",
    "    feature_entry.append([accuracy*100])\n",
    "\n",
    "    FeatureImportance_vol=pd.DataFrame(feature_entry[0:4],columns=[\"Without_Volume\"])\n",
    "    classifierss=[\"SVM\",\"Random_Forest\",\"Decision_Tree\",\"XG_Boost\"]\n",
    "    classifierss_df=pd.DataFrame(classifierss[0:4],columns=[\"Models\"])\n",
    "    \n",
    "print(\"=\"*30)\n",
    "FeatureImportance_all=pd.concat((classifierss_df,FeatureImportance_all,FeatureImportance_FA,FeatureImportance_MD,FeatureImportance_RD,FeatureImportance_AD,FeatureImportance_CL,FeatureImportance_cur,FeatureImportance_tor,FeatureImportance_vol),axis=1)\n",
    "# FeatureImportance_all\n",
    "df_t = FeatureImportance_all.T\n",
    "#grab the first row for the column\n",
    "df_t=df_t.rename(columns=df_t.iloc[0])\n",
    "df_t=df_t[1:] #take the data less the header row\n",
    "df_t\n"
   ]
  },
  {
   "cell_type": "code",
   "execution_count": 53,
   "metadata": {},
   "outputs": [
    {
     "data": {
      "image/png": "[encoded data removed]",
      "text/plain": [
       "<Figure size 1440x1440 with 1 Axes>"
      ]
     },
     "metadata": {
      "needs_background": "light"
     },
     "output_type": "display_data"
    }
   ],
   "source": [
    "barplot=df_t.plot(kind='barh',figsize=(20,20),width=.8,color=[\"darkseagreen\",\"powderblue\",\"cornflowerblue\",\"tan\"])\n",
    "\n",
    "# for loop to get the accuracy text label by using the widthvalue of the bars\n",
    "for p in barplot.patches:\n",
    "                _x = p.get_x() + p.get_width() \n",
    "                _y = p.get_y() + p.get_height()\n",
    "                value = int(p.get_width())\n",
    "                barplot.text(_x, _y, value, ha=\"left\")\n",
    "# Giving the title for the plot\n",
    "plt.title(\"Bar plot representing the Features Importance of AD vs MCI\")\n",
    "# Namimg the x and y axis\n",
    "plt.ylabel('Features')\n",
    "plt.xlabel('Scores')\n",
    "plt.show()"
   ]
  },
  {
   "cell_type": "markdown",
   "metadata": {},
   "source": [
    "# NC vs MCI  Feature Importance."
   ]
  },
  {
   "cell_type": "markdown",
   "metadata": {},
   "source": [
    "## Feature importance testing by removing one measurement each time."
   ]
  },
  {
   "cell_type": "code",
   "execution_count": 54,
   "metadata": {},
   "outputs": [],
   "source": [
    "\n",
    "combined_features_withScalPCA=np.concatenate((fa_feature_all_locations_scalPca,md_feature_all_locations_scalPca,rd_feature_all_locations_scalPca, \n",
    "                        ad_feature_all_locations_scalPca,cl_feature_all_locations_scalPca,curvature_feature_all_locations_scalPca,\n",
    "                        Torsion_feature_all_locations_scalPca,volume_feature_all_locations_scalPca),axis=1)"
   ]
  },
  {
   "cell_type": "code",
   "execution_count": 55,
   "metadata": {},
   "outputs": [],
   "source": [
    "# load the svc model\n",
    "svc_final =load(open('svc_final_NCvsMCI_withVal.pkl', 'rb'))\n",
    "# load the  randomforest\n",
    "rf_final =load (open('rf_final_NCvsMCI_withVal.pkl', 'rb'))\n",
    "\n",
    "# load the dt model\n",
    "dt_final=load(open('dt_final_NCvsMCI_withVal.pkl', 'rb'))\n",
    "# load the axgboost model\n",
    "xgb_final= load (open('xgb_final_NCvsMCI_withVal.pkl', 'rb'))"
   ]
  },
  {
   "cell_type": "code",
   "execution_count": 56,
   "metadata": {},
   "outputs": [
    {
     "name": "stdout",
     "output_type": "stream",
     "text": [
      "(235, 240)\n",
      "(235, 1)\n",
      "(215, 240)\n",
      "(215, 1)\n"
     ]
    }
   ],
   "source": [
    "# Normal Control vs MCI\n",
    "y=train_diagnose\n",
    "y.shape\n",
    "NC_data_x = combined_features_withScalPCA[NC]\n",
    "NC_data_y = y[NC]\n",
    "\n",
    "print(NC_data_x.shape)\n",
    "print(NC_data_y.shape)\n",
    "\n",
    "\n",
    "NMCI_data_x =combined_features_withScalPCA[NMCI]\n",
    "NMCI_data_y = y[NMCI]\n",
    "\n",
    "print(NMCI_data_x.shape)\n",
    "print(NMCI_data_y.shape)\n",
    "\n",
    "\n"
   ]
  },
  {
   "cell_type": "code",
   "execution_count": 57,
   "metadata": {},
   "outputs": [
    {
     "name": "stdout",
     "output_type": "stream",
     "text": [
      "(450, 240)\n",
      "(450, 1)\n"
     ]
    }
   ],
   "source": [
    "# Normal control and MCI\n",
    "NCvsNMCI_X=np.concatenate((NC_data_x, NMCI_data_x), axis=0)\n",
    "print(NCvsNMCI_X.shape)\n",
    "\n",
    "NCvsNMCI_Y=np.concatenate((NC_data_y, NMCI_data_y), axis=0)\n",
    "print(NCvsNMCI_Y.shape)"
   ]
  },
  {
   "cell_type": "code",
   "execution_count": 58,
   "metadata": {},
   "outputs": [
    {
     "name": "stdout",
     "output_type": "stream",
     "text": [
      "(360, 240)\n",
      "(90, 240)\n"
     ]
    }
   ],
   "source": [
    "from sklearn.model_selection import train_test_split\n",
    "# splitting data into tarining , testing .\n",
    "X_train, X_test, y_train, y_test = train_test_split(NCvsNMCI_X,NCvsNMCI_Y, test_size=0.20, random_state=123)\n",
    "print(X_train.shape)\n",
    "print(X_test.shape)\n",
    "\n"
   ]
  },
  {
   "cell_type": "code",
   "execution_count": 59,
   "metadata": {},
   "outputs": [
    {
     "name": "stdout",
     "output_type": "stream",
     "text": [
      "==============================\n",
      "SVC\n",
      "****Results****\n",
      "Training 94.72%\n",
      "Accuracy 53.33%\n",
      "==============================\n",
      "RandomForestClassifier\n",
      "****Results****\n",
      "Training 99.44%\n",
      "Accuracy 58.89%\n",
      "==============================\n",
      "DecisionTreeClassifier\n",
      "****Results****\n",
      "Training 71.39%\n",
      "Accuracy 53.33%\n",
      "==============================\n",
      "XGBClassifier\n",
      "****Results****\n",
      "Training 100.00%\n",
      "Accuracy 56.67%\n",
      "==============================\n"
     ]
    },
    {
     "name": "stderr",
     "output_type": "stream",
     "text": [
      "/opt/anaconda3/lib/python3.7/site-packages/xgboost/sklearn.py:1146: UserWarning: The use of label encoder in XGBClassifier is deprecated and will be removed in a future release. To remove this warning, do the following: 1) Pass option use_label_encoder=False when constructing XGBClassifier object; and 2) Encode your labels (y) as integers starting with 0, i.e. 0, 1, 2, ..., [num_class - 1].\n",
      "  warnings.warn(label_encoder_deprecation_msg, UserWarning)\n"
     ]
    },
    {
     "data": {
      "text/html": [
       "<div>\n",
       "<style scoped>\n",
       "    .dataframe tbody tr th:only-of-type {\n",
       "        vertical-align: middle;\n",
       "    }\n",
       "\n",
       "    .dataframe tbody tr th {\n",
       "        vertical-align: top;\n",
       "    }\n",
       "\n",
       "    .dataframe thead th {\n",
       "        text-align: right;\n",
       "    }\n",
       "</style>\n",
       "<table border=\"1\" class=\"dataframe\">\n",
       "  <thead>\n",
       "    <tr style=\"text-align: right;\">\n",
       "      <th></th>\n",
       "      <th>All Features</th>\n",
       "    </tr>\n",
       "  </thead>\n",
       "  <tbody>\n",
       "    <tr>\n",
       "      <th>0</th>\n",
       "      <td>53.333333</td>\n",
       "    </tr>\n",
       "    <tr>\n",
       "      <th>1</th>\n",
       "      <td>58.888889</td>\n",
       "    </tr>\n",
       "    <tr>\n",
       "      <th>2</th>\n",
       "      <td>53.333333</td>\n",
       "    </tr>\n",
       "    <tr>\n",
       "      <th>3</th>\n",
       "      <td>56.666667</td>\n",
       "    </tr>\n",
       "  </tbody>\n",
       "</table>\n",
       "</div>"
      ],
      "text/plain": [
       "   All Features\n",
       "0     53.333333\n",
       "1     58.888889\n",
       "2     53.333333\n",
       "3     56.666667"
      ]
     },
     "execution_count": 59,
     "metadata": {},
     "output_type": "execute_result"
    }
   ],
   "source": [
    "finalClassifiers=[svc_final,rf_final,dt_final,xgb_final]\n",
    "\n",
    "feature_entry=[]\n",
    "for models in finalClassifiers:\n",
    "    models.fit(X_train, y_train.ravel())\n",
    "    name = models.__class__.__name__\n",
    "    \n",
    "    print(\"=\"*30)\n",
    "    print(name)\n",
    "    \n",
    "    print('****Results****')\n",
    "    train_predictions = models.predict(X_test)\n",
    "    trainingscore=models.score(X_train, y_train.ravel())\n",
    "    accuracy = accuracy_score(y_test.ravel(), train_predictions)\n",
    "    print(\"Training {:.2%}\".format(trainingscore))\n",
    "    print(\"Accuracy {:.2%}\".format(accuracy))\n",
    "    feature_entry.append([accuracy*100])\n",
    "    \n",
    "\n",
    "    FeatureImportance_all=pd.DataFrame(feature_entry[0:4],columns=[\"All Features\"])\n",
    "\n",
    "    \n",
    "print(\"=\"*30)\n",
    "FeatureImportance_all.head(5)\n"
   ]
  },
  {
   "cell_type": "markdown",
   "metadata": {},
   "source": [
    "## NC vs NMCI Training without FA"
   ]
  },
  {
   "cell_type": "code",
   "execution_count": 60,
   "metadata": {},
   "outputs": [],
   "source": [
    "\n",
    "#removing Fa from the data\n",
    "combined_FA_Ex=np.concatenate((md_feature_all_locations_scalPca,rd_feature_all_locations_scalPca, \n",
    "                        ad_feature_all_locations_scalPca,cl_feature_all_locations_scalPca,curvature_feature_all_locations_scalPca,\n",
    "                        Torsion_feature_all_locations_scalPca,volume_feature_all_locations_scalPca),axis=1)"
   ]
  },
  {
   "cell_type": "code",
   "execution_count": 61,
   "metadata": {},
   "outputs": [
    {
     "name": "stdout",
     "output_type": "stream",
     "text": [
      "(235, 210)\n",
      "(235, 1)\n",
      "(215, 210)\n",
      "(215, 1)\n"
     ]
    }
   ],
   "source": [
    "# X=combined_features_without_Scaling\n",
    "# X.shape\n",
    "y=train_diagnose\n",
    "y.shape\n",
    "NC_data_x = combined_FA_Ex[NC]\n",
    "NC_data_y = y[NC]\n",
    "\n",
    "print(NC_data_x.shape)\n",
    "print(NC_data_y.shape)\n",
    "\n",
    "\n",
    "NMCI_data_x =combined_FA_Ex[NMCI]\n",
    "NMCI_data_y = y[NMCI]\n",
    "\n",
    "print(NMCI_data_x.shape)\n",
    "print(NMCI_data_y.shape)\n",
    "\n",
    "\n"
   ]
  },
  {
   "cell_type": "code",
   "execution_count": 62,
   "metadata": {},
   "outputs": [
    {
     "name": "stdout",
     "output_type": "stream",
     "text": [
      "(450, 210)\n",
      "(450, 1)\n"
     ]
    }
   ],
   "source": [
    "# Normal control and MCI\n",
    "NCvsNMCI_X=np.concatenate((NC_data_x, NMCI_data_x), axis=0)\n",
    "print(NCvsNMCI_X.shape)\n",
    "\n",
    "NCvsNMCI_Y=np.concatenate((NC_data_y, NMCI_data_y), axis=0)\n",
    "print(NCvsNMCI_Y.shape)"
   ]
  },
  {
   "cell_type": "code",
   "execution_count": 63,
   "metadata": {},
   "outputs": [
    {
     "name": "stdout",
     "output_type": "stream",
     "text": [
      "(360, 210)\n",
      "(90, 210)\n"
     ]
    }
   ],
   "source": [
    "from sklearn.model_selection import train_test_split\n",
    "# splitting data into tarining , testing .\n",
    "X_train, X_test, y_train, y_test = train_test_split(NCvsNMCI_X,NCvsNMCI_Y, test_size=0.20, random_state=123)\n",
    "print(X_train.shape)\n",
    "print(X_test.shape)\n"
   ]
  },
  {
   "cell_type": "code",
   "execution_count": 64,
   "metadata": {},
   "outputs": [
    {
     "name": "stdout",
     "output_type": "stream",
     "text": [
      "==============================\n",
      "SVC\n",
      "****Results****\n",
      "Training 94.72%\n",
      "Accuracy 55.56%\n",
      "==============================\n",
      "RandomForestClassifier\n",
      "****Results****\n",
      "Training 99.44%\n",
      "Accuracy 56.67%\n",
      "==============================\n",
      "DecisionTreeClassifier\n",
      "****Results****\n",
      "Training 71.39%\n",
      "Accuracy 53.33%\n",
      "==============================\n",
      "XGBClassifier\n",
      "****Results****\n",
      "Training 99.72%\n",
      "Accuracy 58.89%\n",
      "==============================\n"
     ]
    },
    {
     "name": "stderr",
     "output_type": "stream",
     "text": [
      "/opt/anaconda3/lib/python3.7/site-packages/xgboost/sklearn.py:1146: UserWarning: The use of label encoder in XGBClassifier is deprecated and will be removed in a future release. To remove this warning, do the following: 1) Pass option use_label_encoder=False when constructing XGBClassifier object; and 2) Encode your labels (y) as integers starting with 0, i.e. 0, 1, 2, ..., [num_class - 1].\n",
      "  warnings.warn(label_encoder_deprecation_msg, UserWarning)\n"
     ]
    },
    {
     "data": {
      "text/html": [
       "<div>\n",
       "<style scoped>\n",
       "    .dataframe tbody tr th:only-of-type {\n",
       "        vertical-align: middle;\n",
       "    }\n",
       "\n",
       "    .dataframe tbody tr th {\n",
       "        vertical-align: top;\n",
       "    }\n",
       "\n",
       "    .dataframe thead th {\n",
       "        text-align: right;\n",
       "    }\n",
       "</style>\n",
       "<table border=\"1\" class=\"dataframe\">\n",
       "  <thead>\n",
       "    <tr style=\"text-align: right;\">\n",
       "      <th></th>\n",
       "      <th>Without_FA</th>\n",
       "    </tr>\n",
       "  </thead>\n",
       "  <tbody>\n",
       "    <tr>\n",
       "      <th>0</th>\n",
       "      <td>55.555556</td>\n",
       "    </tr>\n",
       "    <tr>\n",
       "      <th>1</th>\n",
       "      <td>56.666667</td>\n",
       "    </tr>\n",
       "    <tr>\n",
       "      <th>2</th>\n",
       "      <td>53.333333</td>\n",
       "    </tr>\n",
       "    <tr>\n",
       "      <th>3</th>\n",
       "      <td>58.888889</td>\n",
       "    </tr>\n",
       "  </tbody>\n",
       "</table>\n",
       "</div>"
      ],
      "text/plain": [
       "   Without_FA\n",
       "0   55.555556\n",
       "1   56.666667\n",
       "2   53.333333\n",
       "3   58.888889"
      ]
     },
     "execution_count": 64,
     "metadata": {},
     "output_type": "execute_result"
    }
   ],
   "source": [
    "# making a list tos ave the result to it\n",
    "feature_entry=[]\n",
    "# for loop for traning and testing of the four models\n",
    "for models in finalClassifiers:\n",
    "    models.fit(X_train, y_train.ravel())\n",
    "    name = models.__class__.__name__\n",
    "    \n",
    "    print(\"=\"*30)\n",
    "    print(name)\n",
    "    \n",
    "    print('****Results****')\n",
    "    train_predictions = models.predict(X_test)\n",
    "    trainingscore=models.score(X_train, y_train.ravel())\n",
    "    accuracy = accuracy_score(y_test.ravel(), train_predictions)\n",
    "    print(\"Training {:.2%}\".format(trainingscore))\n",
    "    print(\"Accuracy {:.2%}\".format(accuracy))\n",
    "#     appeending the accauracy of the models into the feature_entry\n",
    "    feature_entry.append([accuracy*100])\n",
    "# saving the feature importanc einto data frame.\n",
    "    FeatureImportance_FA=pd.DataFrame(feature_entry[0:4],columns=[\"Without_FA\"])\n",
    "\n",
    "    \n",
    "print(\"=\"*30)\n",
    "\n",
    "FeatureImportance_FA"
   ]
  },
  {
   "cell_type": "markdown",
   "metadata": {},
   "source": [
    "## NC  vs NMCI Training without MD"
   ]
  },
  {
   "cell_type": "code",
   "execution_count": 65,
   "metadata": {},
   "outputs": [],
   "source": [
    "\n",
    "#removing MD from the data\n",
    "combined_MD_Ex=np.concatenate((fa_feature_all_locations_scalPca,rd_feature_all_locations_scalPca, \n",
    "                        ad_feature_all_locations_scalPca,cl_feature_all_locations_scalPca,curvature_feature_all_locations_scalPca,\n",
    "                        Torsion_feature_all_locations_scalPca,volume_feature_all_locations_scalPca),axis=1)"
   ]
  },
  {
   "cell_type": "code",
   "execution_count": 66,
   "metadata": {},
   "outputs": [
    {
     "name": "stdout",
     "output_type": "stream",
     "text": [
      "(235, 210)\n",
      "(235, 1)\n",
      "(215, 210)\n",
      "(215, 1)\n"
     ]
    }
   ],
   "source": [
    "NC_data_x = combined_MD_Ex[NC]\n",
    "NC_data_y = y[NC]\n",
    "\n",
    "print(NC_data_x.shape)\n",
    "print(NC_data_y.shape)\n",
    "\n",
    "\n",
    "NMCI_data_x =combined_MD_Ex[NMCI]\n",
    "NMCI_data_y = y[NMCI]\n",
    "\n",
    "print(NMCI_data_x.shape)\n",
    "print(NMCI_data_y.shape)\n",
    "\n",
    "\n"
   ]
  },
  {
   "cell_type": "code",
   "execution_count": 67,
   "metadata": {},
   "outputs": [
    {
     "name": "stdout",
     "output_type": "stream",
     "text": [
      "(450, 210)\n",
      "(450, 1)\n"
     ]
    }
   ],
   "source": [
    "# Normal control and MCI\n",
    "NCvsNMCI_X=np.concatenate((NC_data_x, NMCI_data_x), axis=0)\n",
    "print(NCvsNMCI_X.shape)\n",
    "\n",
    "NCvsNMCI_Y=np.concatenate((NC_data_y, NMCI_data_y), axis=0)\n",
    "print(NCvsNMCI_Y.shape)"
   ]
  },
  {
   "cell_type": "code",
   "execution_count": 68,
   "metadata": {},
   "outputs": [
    {
     "name": "stdout",
     "output_type": "stream",
     "text": [
      "(360, 210)\n",
      "(90, 210)\n"
     ]
    }
   ],
   "source": [
    "from sklearn.model_selection import train_test_split\n",
    "X_train, X_test, y_train, y_test = train_test_split(NCvsNMCI_X,NCvsNMCI_Y, test_size=0.20, random_state=123)\n",
    "print(X_train.shape)\n",
    "print(X_test.shape)\n"
   ]
  },
  {
   "cell_type": "code",
   "execution_count": 69,
   "metadata": {},
   "outputs": [
    {
     "name": "stdout",
     "output_type": "stream",
     "text": [
      "==============================\n",
      "SVC\n",
      "****Results****\n",
      "Training 96.11%\n",
      "Accuracy 54.44%\n",
      "==============================\n",
      "RandomForestClassifier\n",
      "****Results****\n",
      "Training 100.00%\n",
      "Accuracy 60.00%\n",
      "==============================\n",
      "DecisionTreeClassifier\n",
      "****Results****\n",
      "Training 73.06%\n",
      "Accuracy 55.56%\n",
      "==============================\n",
      "XGBClassifier\n",
      "****Results****\n",
      "Training 100.00%\n",
      "Accuracy 54.44%\n",
      "==============================\n"
     ]
    },
    {
     "name": "stderr",
     "output_type": "stream",
     "text": [
      "/opt/anaconda3/lib/python3.7/site-packages/xgboost/sklearn.py:1146: UserWarning: The use of label encoder in XGBClassifier is deprecated and will be removed in a future release. To remove this warning, do the following: 1) Pass option use_label_encoder=False when constructing XGBClassifier object; and 2) Encode your labels (y) as integers starting with 0, i.e. 0, 1, 2, ..., [num_class - 1].\n",
      "  warnings.warn(label_encoder_deprecation_msg, UserWarning)\n"
     ]
    },
    {
     "data": {
      "text/html": [
       "<div>\n",
       "<style scoped>\n",
       "    .dataframe tbody tr th:only-of-type {\n",
       "        vertical-align: middle;\n",
       "    }\n",
       "\n",
       "    .dataframe tbody tr th {\n",
       "        vertical-align: top;\n",
       "    }\n",
       "\n",
       "    .dataframe thead th {\n",
       "        text-align: right;\n",
       "    }\n",
       "</style>\n",
       "<table border=\"1\" class=\"dataframe\">\n",
       "  <thead>\n",
       "    <tr style=\"text-align: right;\">\n",
       "      <th></th>\n",
       "      <th>Without_MA</th>\n",
       "    </tr>\n",
       "  </thead>\n",
       "  <tbody>\n",
       "    <tr>\n",
       "      <th>0</th>\n",
       "      <td>54.444444</td>\n",
       "    </tr>\n",
       "    <tr>\n",
       "      <th>1</th>\n",
       "      <td>60.000000</td>\n",
       "    </tr>\n",
       "    <tr>\n",
       "      <th>2</th>\n",
       "      <td>55.555556</td>\n",
       "    </tr>\n",
       "    <tr>\n",
       "      <th>3</th>\n",
       "      <td>54.444444</td>\n",
       "    </tr>\n",
       "  </tbody>\n",
       "</table>\n",
       "</div>"
      ],
      "text/plain": [
       "   Without_MA\n",
       "0   54.444444\n",
       "1   60.000000\n",
       "2   55.555556\n",
       "3   54.444444"
      ]
     },
     "execution_count": 69,
     "metadata": {},
     "output_type": "execute_result"
    }
   ],
   "source": [
    "# list to save the accuarcy of the models\n",
    "feature_entry=[]\n",
    "\n",
    "# for loop for training and testing all four models and then saving teh result to the list mentioned above\n",
    "for models in finalClassifiers:\n",
    "    models.fit(X_train, y_train.ravel())\n",
    "    name = models.__class__.__name__\n",
    "    \n",
    "    print(\"=\"*30)\n",
    "    print(name)\n",
    "    \n",
    "    print('****Results****')\n",
    "    train_predictions = models.predict(X_test)\n",
    "    trainingscore=models.score(X_train, y_train.ravel())\n",
    "    accuracy = accuracy_score(y_test.ravel(), train_predictions)\n",
    "    print(\"Training {:.2%}\".format(trainingscore))\n",
    "    print(\"Accuracy {:.2%}\".format(accuracy))\n",
    "\n",
    "    # appending the accauracy of the models into the feature_entry\n",
    "    feature_entry.append([accuracy*100])\n",
    "    # saving the feature importanc einto data frame.\n",
    "\n",
    "    FeatureImportance_MD=pd.DataFrame(feature_entry[0:4],columns=[\"Without_MA\"])\n",
    "    \n",
    "print(\"=\"*30)\n",
    "FeatureImportance_MD\n",
    "\n"
   ]
  },
  {
   "cell_type": "markdown",
   "metadata": {},
   "source": [
    "## NC  vs NMCI Training without RD"
   ]
  },
  {
   "cell_type": "code",
   "execution_count": 70,
   "metadata": {},
   "outputs": [],
   "source": [
    "#removing RD from the data\n",
    "combined_RD_Ex=np.concatenate((fa_feature_all_locations_scalPca,md_feature_all_locations_scalPca, \n",
    "                        ad_feature_all_locations_scalPca,cl_feature_all_locations_scalPca,curvature_feature_all_locations_scalPca,\n",
    "                        Torsion_feature_all_locations_scalPca,volume_feature_all_locations_scalPca),axis=1)"
   ]
  },
  {
   "cell_type": "code",
   "execution_count": 71,
   "metadata": {},
   "outputs": [
    {
     "name": "stdout",
     "output_type": "stream",
     "text": [
      "(235, 210)\n",
      "(235, 1)\n",
      "(215, 210)\n",
      "(215, 1)\n"
     ]
    }
   ],
   "source": [
    "NC_data_x = combined_RD_Ex[NC]\n",
    "NC_data_y = y[NC]\n",
    "\n",
    "print(NC_data_x.shape)\n",
    "print(NC_data_y.shape)\n",
    "\n",
    "\n",
    "NMCI_data_x =combined_RD_Ex[NMCI]\n",
    "NMCI_data_y = y[NMCI]\n",
    "\n",
    "print(NMCI_data_x.shape)\n",
    "print(NMCI_data_y.shape)\n",
    "\n",
    "\n"
   ]
  },
  {
   "cell_type": "code",
   "execution_count": 72,
   "metadata": {},
   "outputs": [
    {
     "name": "stdout",
     "output_type": "stream",
     "text": [
      "(450, 210)\n",
      "(450, 1)\n"
     ]
    }
   ],
   "source": [
    "\n",
    "# Normal control and MCI\n",
    "NCvsNMCI_X=np.concatenate((NC_data_x, NMCI_data_x), axis=0)\n",
    "print(NCvsNMCI_X.shape)\n",
    "\n",
    "NCvsNMCI_Y=np.concatenate((NC_data_y, NMCI_data_y), axis=0)\n",
    "print(NCvsNMCI_Y.shape)"
   ]
  },
  {
   "cell_type": "code",
   "execution_count": 73,
   "metadata": {},
   "outputs": [
    {
     "name": "stdout",
     "output_type": "stream",
     "text": [
      "(360, 210)\n",
      "(90, 210)\n"
     ]
    }
   ],
   "source": [
    "from sklearn.model_selection import train_test_split\n",
    "X_train, X_test, y_train, y_test = train_test_split(NCvsNMCI_X,NCvsNMCI_Y, test_size=0.20, random_state=123)\n",
    "print(X_train.shape)\n",
    "print(X_test.shape)\n"
   ]
  },
  {
   "cell_type": "code",
   "execution_count": 74,
   "metadata": {},
   "outputs": [
    {
     "name": "stdout",
     "output_type": "stream",
     "text": [
      "==============================\n",
      "SVC\n",
      "****Results****\n",
      "Training 95.83%\n",
      "Accuracy 55.56%\n",
      "==============================\n",
      "RandomForestClassifier\n",
      "****Results****\n",
      "Training 99.72%\n",
      "Accuracy 52.22%\n",
      "==============================\n",
      "DecisionTreeClassifier\n",
      "****Results****\n",
      "Training 71.94%\n",
      "Accuracy 51.11%\n",
      "==============================\n",
      "XGBClassifier\n",
      "****Results****\n",
      "Training 100.00%\n",
      "Accuracy 61.11%\n",
      "==============================\n"
     ]
    },
    {
     "name": "stderr",
     "output_type": "stream",
     "text": [
      "/opt/anaconda3/lib/python3.7/site-packages/xgboost/sklearn.py:1146: UserWarning: The use of label encoder in XGBClassifier is deprecated and will be removed in a future release. To remove this warning, do the following: 1) Pass option use_label_encoder=False when constructing XGBClassifier object; and 2) Encode your labels (y) as integers starting with 0, i.e. 0, 1, 2, ..., [num_class - 1].\n",
      "  warnings.warn(label_encoder_deprecation_msg, UserWarning)\n"
     ]
    },
    {
     "data": {
      "text/html": [
       "<div>\n",
       "<style scoped>\n",
       "    .dataframe tbody tr th:only-of-type {\n",
       "        vertical-align: middle;\n",
       "    }\n",
       "\n",
       "    .dataframe tbody tr th {\n",
       "        vertical-align: top;\n",
       "    }\n",
       "\n",
       "    .dataframe thead th {\n",
       "        text-align: right;\n",
       "    }\n",
       "</style>\n",
       "<table border=\"1\" class=\"dataframe\">\n",
       "  <thead>\n",
       "    <tr style=\"text-align: right;\">\n",
       "      <th></th>\n",
       "      <th>Without_RD</th>\n",
       "    </tr>\n",
       "  </thead>\n",
       "  <tbody>\n",
       "    <tr>\n",
       "      <th>0</th>\n",
       "      <td>55.555556</td>\n",
       "    </tr>\n",
       "    <tr>\n",
       "      <th>1</th>\n",
       "      <td>52.222222</td>\n",
       "    </tr>\n",
       "    <tr>\n",
       "      <th>2</th>\n",
       "      <td>51.111111</td>\n",
       "    </tr>\n",
       "    <tr>\n",
       "      <th>3</th>\n",
       "      <td>61.111111</td>\n",
       "    </tr>\n",
       "  </tbody>\n",
       "</table>\n",
       "</div>"
      ],
      "text/plain": [
       "   Without_RD\n",
       "0   55.555556\n",
       "1   52.222222\n",
       "2   51.111111\n",
       "3   61.111111"
      ]
     },
     "execution_count": 74,
     "metadata": {},
     "output_type": "execute_result"
    }
   ],
   "source": [
    " # list to save the accuarcy of the models\n",
    "feature_entry=[]\n",
    "for models in finalClassifiers:\n",
    "    models.fit(X_train, y_train.ravel())\n",
    "    name = models.__class__.__name__\n",
    "    \n",
    "    print(\"=\"*30)\n",
    "    print(name)\n",
    "    \n",
    "    print('****Results****')\n",
    "    train_predictions = models.predict(X_test)\n",
    "    trainingscore=models.score(X_train, y_train.ravel())\n",
    "    accuracy = accuracy_score(y_test.ravel(), train_predictions)\n",
    "    print(\"Training {:.2%}\".format(trainingscore))\n",
    "    print(\"Accuracy {:.2%}\".format(accuracy))\n",
    "  \n",
    "    # appending the accauracy of the models into the feature_entry\n",
    "    feature_entry.append([accuracy*100])\n",
    "    # saving the feature importanc einto data frame.\n",
    "\n",
    "    FeatureImportance_RD=pd.DataFrame(feature_entry[0:4],columns=[\"Without_RD\"])\n",
    "    \n",
    "print(\"=\"*30)\n",
    "FeatureImportance_RD"
   ]
  },
  {
   "cell_type": "markdown",
   "metadata": {},
   "source": [
    "# NC  vs MCI Training without AD"
   ]
  },
  {
   "cell_type": "code",
   "execution_count": 75,
   "metadata": {},
   "outputs": [],
   "source": [
    "#removing AD from the data\n",
    "combined_AD_Ex=np.concatenate((fa_feature_all_locations_scalPca,md_feature_all_locations_scalPca,rd_feature_all_locations_scalPca, \n",
    "                        cl_feature_all_locations_scalPca,curvature_feature_all_locations_scalPca,\n",
    "                        Torsion_feature_all_locations_scalPca,volume_feature_all_locations_scalPca),axis=1)"
   ]
  },
  {
   "cell_type": "code",
   "execution_count": 76,
   "metadata": {},
   "outputs": [
    {
     "name": "stdout",
     "output_type": "stream",
     "text": [
      "(235, 210)\n",
      "(235, 1)\n",
      "(215, 210)\n",
      "(215, 1)\n"
     ]
    }
   ],
   "source": [
    "NC_data_x = combined_AD_Ex[NC]\n",
    "NC_data_y = y[NC]\n",
    "\n",
    "print(NC_data_x.shape)\n",
    "print(NC_data_y.shape)\n",
    "\n",
    "\n",
    "NMCI_data_x =combined_AD_Ex[NMCI]\n",
    "NMCI_data_y = y[NMCI]\n",
    "\n",
    "print(NMCI_data_x.shape)\n",
    "print(NMCI_data_y.shape)\n",
    "\n",
    "\n"
   ]
  },
  {
   "cell_type": "code",
   "execution_count": 77,
   "metadata": {},
   "outputs": [
    {
     "name": "stdout",
     "output_type": "stream",
     "text": [
      "(450, 210)\n",
      "(450, 1)\n"
     ]
    }
   ],
   "source": [
    "\n",
    "# Normal control and MCI\n",
    "NCvsNMCI_X=np.concatenate((NC_data_x, NMCI_data_x), axis=0)\n",
    "print(NCvsNMCI_X.shape)\n",
    "\n",
    "NCvsNMCI_Y=np.concatenate((NC_data_y, NMCI_data_y), axis=0)\n",
    "print(NCvsNMCI_Y.shape)"
   ]
  },
  {
   "cell_type": "code",
   "execution_count": 78,
   "metadata": {},
   "outputs": [
    {
     "name": "stdout",
     "output_type": "stream",
     "text": [
      "(360, 210)\n",
      "(90, 210)\n"
     ]
    }
   ],
   "source": [
    "from sklearn.model_selection import train_test_split\n",
    "X_train, X_test, y_train, y_test = train_test_split(NCvsNMCI_X,NCvsNMCI_Y, test_size=0.20, random_state=123)\n",
    "print(X_train.shape)\n",
    "print(X_test.shape)\n"
   ]
  },
  {
   "cell_type": "code",
   "execution_count": 79,
   "metadata": {},
   "outputs": [
    {
     "name": "stdout",
     "output_type": "stream",
     "text": [
      "==============================\n",
      "SVC\n",
      "****Results****\n",
      "Training 94.17%\n",
      "Accuracy 52.22%\n",
      "==============================\n",
      "RandomForestClassifier\n",
      "****Results****\n",
      "Training 98.89%\n",
      "Accuracy 57.78%\n",
      "==============================\n",
      "DecisionTreeClassifier\n",
      "****Results****\n",
      "Training 69.17%\n",
      "Accuracy 48.89%\n",
      "==============================\n",
      "XGBClassifier\n",
      "****Results****\n",
      "Training 100.00%\n",
      "Accuracy 57.78%\n",
      "==============================\n"
     ]
    },
    {
     "name": "stderr",
     "output_type": "stream",
     "text": [
      "/opt/anaconda3/lib/python3.7/site-packages/xgboost/sklearn.py:1146: UserWarning: The use of label encoder in XGBClassifier is deprecated and will be removed in a future release. To remove this warning, do the following: 1) Pass option use_label_encoder=False when constructing XGBClassifier object; and 2) Encode your labels (y) as integers starting with 0, i.e. 0, 1, 2, ..., [num_class - 1].\n",
      "  warnings.warn(label_encoder_deprecation_msg, UserWarning)\n"
     ]
    },
    {
     "data": {
      "text/html": [
       "<div>\n",
       "<style scoped>\n",
       "    .dataframe tbody tr th:only-of-type {\n",
       "        vertical-align: middle;\n",
       "    }\n",
       "\n",
       "    .dataframe tbody tr th {\n",
       "        vertical-align: top;\n",
       "    }\n",
       "\n",
       "    .dataframe thead th {\n",
       "        text-align: right;\n",
       "    }\n",
       "</style>\n",
       "<table border=\"1\" class=\"dataframe\">\n",
       "  <thead>\n",
       "    <tr style=\"text-align: right;\">\n",
       "      <th></th>\n",
       "      <th>Without_AD</th>\n",
       "    </tr>\n",
       "  </thead>\n",
       "  <tbody>\n",
       "    <tr>\n",
       "      <th>0</th>\n",
       "      <td>52.222222</td>\n",
       "    </tr>\n",
       "    <tr>\n",
       "      <th>1</th>\n",
       "      <td>57.777778</td>\n",
       "    </tr>\n",
       "    <tr>\n",
       "      <th>2</th>\n",
       "      <td>48.888889</td>\n",
       "    </tr>\n",
       "    <tr>\n",
       "      <th>3</th>\n",
       "      <td>57.777778</td>\n",
       "    </tr>\n",
       "  </tbody>\n",
       "</table>\n",
       "</div>"
      ],
      "text/plain": [
       "   Without_AD\n",
       "0   52.222222\n",
       "1   57.777778\n",
       "2   48.888889\n",
       "3   57.777778"
      ]
     },
     "execution_count": 79,
     "metadata": {},
     "output_type": "execute_result"
    }
   ],
   "source": [
    "feature_entry=[]\n",
    "for models in finalClassifiers:\n",
    "    models.fit(X_train, y_train.ravel())\n",
    "    name = models.__class__.__name__\n",
    "    \n",
    "    print(\"=\"*30)\n",
    "    print(name)\n",
    "    \n",
    "    print('****Results****')\n",
    "    train_predictions = models.predict(X_test)\n",
    "    trainingscore=models.score(X_train, y_train.ravel())\n",
    "    accuracy = accuracy_score(y_test.ravel(), train_predictions)\n",
    "    print(\"Training {:.2%}\".format(trainingscore))\n",
    "    print(\"Accuracy {:.2%}\".format(accuracy))\n",
    "\n",
    "    feature_entry.append([accuracy*100])\n",
    "\n",
    "    FeatureImportance_AD=pd.DataFrame(feature_entry[0:4],columns=[\"Without_AD\"])\n",
    "    \n",
    "print(\"=\"*30)\n",
    "FeatureImportance_AD"
   ]
  },
  {
   "cell_type": "markdown",
   "metadata": {},
   "source": [
    "# NC vs MCI Training without CL"
   ]
  },
  {
   "cell_type": "code",
   "execution_count": 80,
   "metadata": {},
   "outputs": [],
   "source": [
    "#removing cl from the data\n",
    "combined_CL_Ex=np.concatenate((fa_feature_all_locations_scalPca,md_feature_all_locations_scalPca,rd_feature_all_locations_scalPca, \n",
    "                        ad_feature_all_locations_scalPca,curvature_feature_all_locations_scalPca,\n",
    "                        Torsion_feature_all_locations_scalPca,volume_feature_all_locations_scalPca),axis=1)"
   ]
  },
  {
   "cell_type": "code",
   "execution_count": 81,
   "metadata": {},
   "outputs": [
    {
     "name": "stdout",
     "output_type": "stream",
     "text": [
      "(235, 210)\n",
      "(235, 1)\n",
      "(215, 210)\n",
      "(215, 1)\n"
     ]
    }
   ],
   "source": [
    "NC_data_x = combined_CL_Ex[NC]\n",
    "NC_data_y = y[NC]\n",
    "\n",
    "print(NC_data_x.shape)\n",
    "print(NC_data_y.shape)\n",
    "\n",
    "\n",
    "NMCI_data_x =combined_CL_Ex[NMCI]\n",
    "NMCI_data_y = y[NMCI]\n",
    "\n",
    "print(NMCI_data_x.shape)\n",
    "print(NMCI_data_y.shape)\n",
    "\n"
   ]
  },
  {
   "cell_type": "code",
   "execution_count": 82,
   "metadata": {},
   "outputs": [
    {
     "name": "stdout",
     "output_type": "stream",
     "text": [
      "(450, 210)\n",
      "(450, 1)\n"
     ]
    }
   ],
   "source": [
    "\n",
    "# Normal control and MCI\n",
    "NCvsNMCI_X=np.concatenate((NC_data_x, NMCI_data_x), axis=0)\n",
    "print(NCvsNMCI_X.shape)\n",
    "\n",
    "NCvsNMCI_Y=np.concatenate((NC_data_y, NMCI_data_y), axis=0)\n",
    "print(NCvsNMCI_Y.shape)"
   ]
  },
  {
   "cell_type": "code",
   "execution_count": 83,
   "metadata": {},
   "outputs": [
    {
     "name": "stdout",
     "output_type": "stream",
     "text": [
      "(360, 210)\n",
      "(90, 210)\n"
     ]
    }
   ],
   "source": [
    "from sklearn.model_selection import train_test_split\n",
    "X_train, X_test, y_train, y_test = train_test_split(NCvsNMCI_X,NCvsNMCI_Y, test_size=0.20, random_state=123)\n",
    "print(X_train.shape)\n",
    "print(X_test.shape)\n"
   ]
  },
  {
   "cell_type": "code",
   "execution_count": 84,
   "metadata": {},
   "outputs": [
    {
     "name": "stdout",
     "output_type": "stream",
     "text": [
      "==============================\n",
      "SVC\n",
      "****Results****\n",
      "Training 93.06%\n",
      "Accuracy 52.22%\n",
      "==============================\n",
      "RandomForestClassifier\n",
      "****Results****\n",
      "Training 99.44%\n",
      "Accuracy 55.56%\n",
      "==============================\n",
      "DecisionTreeClassifier\n",
      "****Results****\n",
      "Training 71.39%\n",
      "Accuracy 53.33%\n",
      "==============================\n",
      "XGBClassifier\n",
      "****Results****\n",
      "Training 100.00%\n",
      "Accuracy 56.67%\n",
      "==============================\n"
     ]
    },
    {
     "name": "stderr",
     "output_type": "stream",
     "text": [
      "/opt/anaconda3/lib/python3.7/site-packages/xgboost/sklearn.py:1146: UserWarning: The use of label encoder in XGBClassifier is deprecated and will be removed in a future release. To remove this warning, do the following: 1) Pass option use_label_encoder=False when constructing XGBClassifier object; and 2) Encode your labels (y) as integers starting with 0, i.e. 0, 1, 2, ..., [num_class - 1].\n",
      "  warnings.warn(label_encoder_deprecation_msg, UserWarning)\n"
     ]
    },
    {
     "data": {
      "text/html": [
       "<div>\n",
       "<style scoped>\n",
       "    .dataframe tbody tr th:only-of-type {\n",
       "        vertical-align: middle;\n",
       "    }\n",
       "\n",
       "    .dataframe tbody tr th {\n",
       "        vertical-align: top;\n",
       "    }\n",
       "\n",
       "    .dataframe thead th {\n",
       "        text-align: right;\n",
       "    }\n",
       "</style>\n",
       "<table border=\"1\" class=\"dataframe\">\n",
       "  <thead>\n",
       "    <tr style=\"text-align: right;\">\n",
       "      <th></th>\n",
       "      <th>Without_CL</th>\n",
       "    </tr>\n",
       "  </thead>\n",
       "  <tbody>\n",
       "    <tr>\n",
       "      <th>0</th>\n",
       "      <td>52.222222</td>\n",
       "    </tr>\n",
       "    <tr>\n",
       "      <th>1</th>\n",
       "      <td>55.555556</td>\n",
       "    </tr>\n",
       "    <tr>\n",
       "      <th>2</th>\n",
       "      <td>53.333333</td>\n",
       "    </tr>\n",
       "    <tr>\n",
       "      <th>3</th>\n",
       "      <td>56.666667</td>\n",
       "    </tr>\n",
       "  </tbody>\n",
       "</table>\n",
       "</div>"
      ],
      "text/plain": [
       "   Without_CL\n",
       "0   52.222222\n",
       "1   55.555556\n",
       "2   53.333333\n",
       "3   56.666667"
      ]
     },
     "execution_count": 84,
     "metadata": {},
     "output_type": "execute_result"
    }
   ],
   "source": [
    "feature_entry=[]\n",
    "for models in finalClassifiers:\n",
    "    models.fit(X_train, y_train.ravel())\n",
    "    name = models.__class__.__name__\n",
    "    \n",
    "    print(\"=\"*30)\n",
    "    print(name)\n",
    "    \n",
    "    print('****Results****')\n",
    "    train_predictions = models.predict(X_test)\n",
    "    trainingscore=models.score(X_train, y_train.ravel())\n",
    "    accuracy = accuracy_score(y_test.ravel(), train_predictions)\n",
    "    print(\"Training {:.2%}\".format(trainingscore))\n",
    "    print(\"Accuracy {:.2%}\".format(accuracy))\n",
    "\n",
    "    feature_entry.append([accuracy*100])\n",
    "\n",
    "    FeatureImportance_CL=pd.DataFrame(feature_entry[0:4],columns=[\"Without_CL\"])\n",
    "    \n",
    "print(\"=\"*30)\n",
    "FeatureImportance_CL"
   ]
  },
  {
   "cell_type": "markdown",
   "metadata": {},
   "source": [
    "# NC  vs MCI Training without Curvature"
   ]
  },
  {
   "cell_type": "code",
   "execution_count": 85,
   "metadata": {},
   "outputs": [],
   "source": [
    "#removing Curvature from the data\n",
    "combined_CUR_Ex=np.concatenate((fa_feature_all_locations_scalPca,md_feature_all_locations_scalPca,rd_feature_all_locations_scalPca, \n",
    "                        ad_feature_all_locations_scalPca,cl_feature_all_locations_scalPca,\n",
    "                        Torsion_feature_all_locations_scalPca,volume_feature_all_locations_scalPca),axis=1)"
   ]
  },
  {
   "cell_type": "code",
   "execution_count": 86,
   "metadata": {},
   "outputs": [
    {
     "name": "stdout",
     "output_type": "stream",
     "text": [
      "(235, 210)\n",
      "(235, 1)\n",
      "(215, 210)\n",
      "(215, 1)\n"
     ]
    }
   ],
   "source": [
    "NC_data_x = combined_CUR_Ex[NC]\n",
    "NC_data_y = y[NC]\n",
    "\n",
    "print(NC_data_x.shape)\n",
    "print(NC_data_y.shape)\n",
    "\n",
    "\n",
    "NMCI_data_x =combined_CUR_Ex[NMCI]\n",
    "NMCI_data_y = y[NMCI]\n",
    "\n",
    "print(NMCI_data_x.shape)\n",
    "print(NMCI_data_y.shape)\n",
    "\n"
   ]
  },
  {
   "cell_type": "code",
   "execution_count": 87,
   "metadata": {},
   "outputs": [
    {
     "name": "stdout",
     "output_type": "stream",
     "text": [
      "(450, 210)\n",
      "(450, 1)\n"
     ]
    }
   ],
   "source": [
    "\n",
    "# Normal control and MCI\n",
    "NCvsNMCI_X=np.concatenate((NC_data_x, NMCI_data_x), axis=0)\n",
    "print(NCvsNMCI_X.shape)\n",
    "\n",
    "NCvsNMCI_Y=np.concatenate((NC_data_y, NMCI_data_y), axis=0)\n",
    "print(NCvsNMCI_Y.shape)"
   ]
  },
  {
   "cell_type": "code",
   "execution_count": 88,
   "metadata": {},
   "outputs": [
    {
     "name": "stdout",
     "output_type": "stream",
     "text": [
      "(360, 210)\n",
      "(90, 210)\n"
     ]
    }
   ],
   "source": [
    "from sklearn.model_selection import train_test_split\n",
    "X_train, X_test, y_train, y_test = train_test_split(NCvsNMCI_X,NCvsNMCI_Y, test_size=0.20, random_state=123)\n",
    "print(X_train.shape)\n",
    "print(X_test.shape)\n"
   ]
  },
  {
   "cell_type": "code",
   "execution_count": 89,
   "metadata": {},
   "outputs": [
    {
     "name": "stdout",
     "output_type": "stream",
     "text": [
      "==============================\n",
      "SVC\n",
      "****Results****\n",
      "Training 93.61%\n",
      "Accuracy 54.44%\n",
      "==============================\n",
      "RandomForestClassifier\n",
      "****Results****\n",
      "Training 97.50%\n",
      "Accuracy 53.33%\n",
      "==============================\n",
      "DecisionTreeClassifier\n",
      "****Results****\n",
      "Training 69.44%\n",
      "Accuracy 53.33%\n",
      "==============================\n",
      "XGBClassifier\n",
      "****Results****\n",
      "Training 99.72%\n",
      "Accuracy 57.78%\n",
      "==============================\n"
     ]
    },
    {
     "name": "stderr",
     "output_type": "stream",
     "text": [
      "/opt/anaconda3/lib/python3.7/site-packages/xgboost/sklearn.py:1146: UserWarning: The use of label encoder in XGBClassifier is deprecated and will be removed in a future release. To remove this warning, do the following: 1) Pass option use_label_encoder=False when constructing XGBClassifier object; and 2) Encode your labels (y) as integers starting with 0, i.e. 0, 1, 2, ..., [num_class - 1].\n",
      "  warnings.warn(label_encoder_deprecation_msg, UserWarning)\n"
     ]
    },
    {
     "data": {
      "text/html": [
       "<div>\n",
       "<style scoped>\n",
       "    .dataframe tbody tr th:only-of-type {\n",
       "        vertical-align: middle;\n",
       "    }\n",
       "\n",
       "    .dataframe tbody tr th {\n",
       "        vertical-align: top;\n",
       "    }\n",
       "\n",
       "    .dataframe thead th {\n",
       "        text-align: right;\n",
       "    }\n",
       "</style>\n",
       "<table border=\"1\" class=\"dataframe\">\n",
       "  <thead>\n",
       "    <tr style=\"text-align: right;\">\n",
       "      <th></th>\n",
       "      <th>Without_Curvature</th>\n",
       "    </tr>\n",
       "  </thead>\n",
       "  <tbody>\n",
       "    <tr>\n",
       "      <th>0</th>\n",
       "      <td>54.444444</td>\n",
       "    </tr>\n",
       "    <tr>\n",
       "      <th>1</th>\n",
       "      <td>53.333333</td>\n",
       "    </tr>\n",
       "    <tr>\n",
       "      <th>2</th>\n",
       "      <td>53.333333</td>\n",
       "    </tr>\n",
       "    <tr>\n",
       "      <th>3</th>\n",
       "      <td>57.777778</td>\n",
       "    </tr>\n",
       "  </tbody>\n",
       "</table>\n",
       "</div>"
      ],
      "text/plain": [
       "   Without_Curvature\n",
       "0          54.444444\n",
       "1          53.333333\n",
       "2          53.333333\n",
       "3          57.777778"
      ]
     },
     "execution_count": 89,
     "metadata": {},
     "output_type": "execute_result"
    }
   ],
   "source": [
    "feature_entry=[]\n",
    "for models in finalClassifiers:\n",
    "    models.fit(X_train, y_train.ravel())\n",
    "    name = models.__class__.__name__\n",
    "    \n",
    "    print(\"=\"*30)\n",
    "    print(name)\n",
    "    \n",
    "    print('****Results****')\n",
    "    train_predictions = models.predict(X_test)\n",
    "    trainingscore=models.score(X_train, y_train.ravel())\n",
    "    accuracy = accuracy_score(y_test.ravel(), train_predictions)\n",
    "    print(\"Training {:.2%}\".format(trainingscore))\n",
    "    print(\"Accuracy {:.2%}\".format(accuracy))\n",
    "\n",
    "    feature_entry.append([accuracy*100])\n",
    "\n",
    "    FeatureImportance_cur=pd.DataFrame(feature_entry[0:4],columns=[\"Without_Curvature\"])\n",
    "    \n",
    "print(\"=\"*30)\n",
    "FeatureImportance_cur"
   ]
  },
  {
   "cell_type": "markdown",
   "metadata": {},
   "source": [
    "# NC vs MCI Training without Torsion"
   ]
  },
  {
   "cell_type": "code",
   "execution_count": 90,
   "metadata": {},
   "outputs": [],
   "source": [
    "#removing Torsion from the data\n",
    "combined_Tor_Ex=np.concatenate((fa_feature_all_locations_scalPca,md_feature_all_locations_scalPca,rd_feature_all_locations_scalPca, \n",
    "                        ad_feature_all_locations_scalPca,cl_feature_all_locations_scalPca,curvature_feature_all_locations_scalPca,\n",
    "                        volume_feature_all_locations_scalPca),axis=1)"
   ]
  },
  {
   "cell_type": "code",
   "execution_count": 91,
   "metadata": {},
   "outputs": [
    {
     "name": "stdout",
     "output_type": "stream",
     "text": [
      "(235, 210)\n",
      "(235, 1)\n",
      "(215, 210)\n",
      "(215, 1)\n"
     ]
    }
   ],
   "source": [
    "NC_data_x = combined_Tor_Ex[NC]\n",
    "NC_data_y = y[NC]\n",
    "\n",
    "print(NC_data_x.shape)\n",
    "print(NC_data_y.shape)\n",
    "\n",
    "\n",
    "NMCI_data_x =combined_Tor_Ex[NMCI]\n",
    "NMCI_data_y = y[NMCI]\n",
    "\n",
    "print(NMCI_data_x.shape)\n",
    "print(NMCI_data_y.shape)\n",
    "\n",
    "\n"
   ]
  },
  {
   "cell_type": "code",
   "execution_count": 92,
   "metadata": {},
   "outputs": [
    {
     "name": "stdout",
     "output_type": "stream",
     "text": [
      "(450, 210)\n",
      "(450, 1)\n"
     ]
    }
   ],
   "source": [
    "\n",
    "# Normal control and MCI\n",
    "NCvsNMCI_X=np.concatenate((NC_data_x, NMCI_data_x), axis=0)\n",
    "print(NCvsNMCI_X.shape)\n",
    "\n",
    "NCvsNMCI_Y=np.concatenate((NC_data_y, NMCI_data_y), axis=0)\n",
    "print(NCvsNMCI_Y.shape)"
   ]
  },
  {
   "cell_type": "code",
   "execution_count": 93,
   "metadata": {},
   "outputs": [
    {
     "name": "stdout",
     "output_type": "stream",
     "text": [
      "(360, 210)\n",
      "(90, 210)\n"
     ]
    }
   ],
   "source": [
    "from sklearn.model_selection import train_test_split\n",
    "X_train, X_test, y_train, y_test = train_test_split(NCvsNMCI_X,NCvsNMCI_Y, test_size=0.20, random_state=123)\n",
    "print(X_train.shape)\n",
    "print(X_test.shape)\n"
   ]
  },
  {
   "cell_type": "code",
   "execution_count": 94,
   "metadata": {},
   "outputs": [
    {
     "name": "stdout",
     "output_type": "stream",
     "text": [
      "==============================\n",
      "SVC\n",
      "****Results****\n",
      "Training 93.89%\n",
      "Accuracy 53.33%\n",
      "==============================\n",
      "RandomForestClassifier\n",
      "****Results****\n",
      "Training 97.50%\n",
      "Accuracy 53.33%\n",
      "==============================\n",
      "DecisionTreeClassifier\n",
      "****Results****\n",
      "Training 71.39%\n",
      "Accuracy 53.33%\n",
      "==============================\n",
      "XGBClassifier\n",
      "****Results****\n",
      "Training 100.00%\n",
      "Accuracy 60.00%\n",
      "==============================\n"
     ]
    },
    {
     "name": "stderr",
     "output_type": "stream",
     "text": [
      "/opt/anaconda3/lib/python3.7/site-packages/xgboost/sklearn.py:1146: UserWarning: The use of label encoder in XGBClassifier is deprecated and will be removed in a future release. To remove this warning, do the following: 1) Pass option use_label_encoder=False when constructing XGBClassifier object; and 2) Encode your labels (y) as integers starting with 0, i.e. 0, 1, 2, ..., [num_class - 1].\n",
      "  warnings.warn(label_encoder_deprecation_msg, UserWarning)\n"
     ]
    },
    {
     "data": {
      "text/html": [
       "<div>\n",
       "<style scoped>\n",
       "    .dataframe tbody tr th:only-of-type {\n",
       "        vertical-align: middle;\n",
       "    }\n",
       "\n",
       "    .dataframe tbody tr th {\n",
       "        vertical-align: top;\n",
       "    }\n",
       "\n",
       "    .dataframe thead th {\n",
       "        text-align: right;\n",
       "    }\n",
       "</style>\n",
       "<table border=\"1\" class=\"dataframe\">\n",
       "  <thead>\n",
       "    <tr style=\"text-align: right;\">\n",
       "      <th></th>\n",
       "      <th>Without_Torsion</th>\n",
       "    </tr>\n",
       "  </thead>\n",
       "  <tbody>\n",
       "    <tr>\n",
       "      <th>0</th>\n",
       "      <td>53.333333</td>\n",
       "    </tr>\n",
       "    <tr>\n",
       "      <th>1</th>\n",
       "      <td>53.333333</td>\n",
       "    </tr>\n",
       "    <tr>\n",
       "      <th>2</th>\n",
       "      <td>53.333333</td>\n",
       "    </tr>\n",
       "    <tr>\n",
       "      <th>3</th>\n",
       "      <td>60.000000</td>\n",
       "    </tr>\n",
       "  </tbody>\n",
       "</table>\n",
       "</div>"
      ],
      "text/plain": [
       "   Without_Torsion\n",
       "0        53.333333\n",
       "1        53.333333\n",
       "2        53.333333\n",
       "3        60.000000"
      ]
     },
     "execution_count": 94,
     "metadata": {},
     "output_type": "execute_result"
    }
   ],
   "source": [
    "feature_entry=[]\n",
    "for models in finalClassifiers:\n",
    "    models.fit(X_train, y_train.ravel())\n",
    "    name = models.__class__.__name__\n",
    "    \n",
    "    print(\"=\"*30)\n",
    "    print(name)\n",
    "    \n",
    "    print('****Results****')\n",
    "    train_predictions = models.predict(X_test)\n",
    "    trainingscore=models.score(X_train, y_train.ravel())\n",
    "    accuracy = accuracy_score(y_test.ravel(), train_predictions)\n",
    "    print(\"Training {:.2%}\".format(trainingscore))\n",
    "    print(\"Accuracy {:.2%}\".format(accuracy))\n",
    "\n",
    "    feature_entry.append([accuracy*100])\n",
    "\n",
    "    FeatureImportance_tor=pd.DataFrame(feature_entry[0:4],columns=[\"Without_Torsion\"])\n",
    "    \n",
    "print(\"=\"*30)\n",
    "FeatureImportance_tor"
   ]
  },
  {
   "cell_type": "markdown",
   "metadata": {},
   "source": [
    "# NC  vs MCI Training without Volume"
   ]
  },
  {
   "cell_type": "code",
   "execution_count": 95,
   "metadata": {},
   "outputs": [],
   "source": [
    "#removing Volume from the data\n",
    "combined_Vol_Ex=np.concatenate((fa_feature_all_locations_scalPca,md_feature_all_locations_scalPca,rd_feature_all_locations_scalPca, \n",
    "                        ad_feature_all_locations_scalPca,cl_feature_all_locations_scalPca,curvature_feature_all_locations_scalPca,\n",
    "                        Torsion_feature_all_locations_scalPca),axis=1)"
   ]
  },
  {
   "cell_type": "code",
   "execution_count": 96,
   "metadata": {},
   "outputs": [
    {
     "name": "stdout",
     "output_type": "stream",
     "text": [
      "(235, 210)\n",
      "(235, 1)\n",
      "(215, 210)\n",
      "(215, 1)\n"
     ]
    }
   ],
   "source": [
    "NC_data_x = combined_Vol_Ex[NC]\n",
    "NC_data_y = y[NC]\n",
    "\n",
    "print(NC_data_x.shape)\n",
    "print(NC_data_y.shape)\n",
    "\n",
    "\n",
    "NMCI_data_x =combined_Vol_Ex[NMCI]\n",
    "NMCI_data_y = y[NMCI]\n",
    "\n",
    "print(NMCI_data_x.shape)\n",
    "print(NMCI_data_y.shape)\n",
    "\n"
   ]
  },
  {
   "cell_type": "code",
   "execution_count": 97,
   "metadata": {},
   "outputs": [
    {
     "name": "stdout",
     "output_type": "stream",
     "text": [
      "(450, 210)\n",
      "(450, 1)\n"
     ]
    }
   ],
   "source": [
    "\n",
    "# Normal control and MCI\n",
    "NCvsNMCI_X=np.concatenate((NC_data_x, NMCI_data_x), axis=0)\n",
    "print(NCvsNMCI_X.shape)\n",
    "\n",
    "NCvsNMCI_Y=np.concatenate((NC_data_y, NMCI_data_y), axis=0)\n",
    "print(NCvsNMCI_Y.shape)"
   ]
  },
  {
   "cell_type": "code",
   "execution_count": 98,
   "metadata": {},
   "outputs": [
    {
     "name": "stdout",
     "output_type": "stream",
     "text": [
      "(360, 210)\n",
      "(90, 210)\n"
     ]
    }
   ],
   "source": [
    "from sklearn.model_selection import train_test_split\n",
    "X_train, X_test, y_train, y_test = train_test_split(NCvsNMCI_X,NCvsNMCI_Y, test_size=0.20, random_state=123)\n",
    "print(X_train.shape)\n",
    "print(X_test.shape)\n"
   ]
  },
  {
   "cell_type": "code",
   "execution_count": 99,
   "metadata": {},
   "outputs": [
    {
     "name": "stdout",
     "output_type": "stream",
     "text": [
      "==============================\n",
      "SVC\n",
      "****Results****\n",
      "Training 92.78%\n",
      "Accuracy 54.44%\n",
      "==============================\n",
      "RandomForestClassifier\n",
      "****Results****\n",
      "Training 99.17%\n",
      "Accuracy 56.67%\n",
      "==============================\n",
      "DecisionTreeClassifier\n",
      "****Results****\n",
      "Training 71.11%\n",
      "Accuracy 41.11%\n",
      "==============================\n",
      "XGBClassifier\n",
      "****Results****\n",
      "Training 100.00%\n",
      "Accuracy 61.11%\n",
      "==============================\n"
     ]
    },
    {
     "name": "stderr",
     "output_type": "stream",
     "text": [
      "/opt/anaconda3/lib/python3.7/site-packages/xgboost/sklearn.py:1146: UserWarning: The use of label encoder in XGBClassifier is deprecated and will be removed in a future release. To remove this warning, do the following: 1) Pass option use_label_encoder=False when constructing XGBClassifier object; and 2) Encode your labels (y) as integers starting with 0, i.e. 0, 1, 2, ..., [num_class - 1].\n",
      "  warnings.warn(label_encoder_deprecation_msg, UserWarning)\n"
     ]
    },
    {
     "data": {
      "text/html": [
       "<div>\n",
       "<style scoped>\n",
       "    .dataframe tbody tr th:only-of-type {\n",
       "        vertical-align: middle;\n",
       "    }\n",
       "\n",
       "    .dataframe tbody tr th {\n",
       "        vertical-align: top;\n",
       "    }\n",
       "\n",
       "    .dataframe thead th {\n",
       "        text-align: right;\n",
       "    }\n",
       "</style>\n",
       "<table border=\"1\" class=\"dataframe\">\n",
       "  <thead>\n",
       "    <tr style=\"text-align: right;\">\n",
       "      <th></th>\n",
       "      <th>SVM</th>\n",
       "      <th>Random_Forest</th>\n",
       "      <th>Decision_Tree</th>\n",
       "      <th>XG_Boost</th>\n",
       "    </tr>\n",
       "  </thead>\n",
       "  <tbody>\n",
       "    <tr>\n",
       "      <th>All Features</th>\n",
       "      <td>53.3333</td>\n",
       "      <td>58.8889</td>\n",
       "      <td>53.3333</td>\n",
       "      <td>56.6667</td>\n",
       "    </tr>\n",
       "    <tr>\n",
       "      <th>Without_FA</th>\n",
       "      <td>55.5556</td>\n",
       "      <td>56.6667</td>\n",
       "      <td>53.3333</td>\n",
       "      <td>58.8889</td>\n",
       "    </tr>\n",
       "    <tr>\n",
       "      <th>Without_MA</th>\n",
       "      <td>54.4444</td>\n",
       "      <td>60</td>\n",
       "      <td>55.5556</td>\n",
       "      <td>54.4444</td>\n",
       "    </tr>\n",
       "    <tr>\n",
       "      <th>Without_RD</th>\n",
       "      <td>55.5556</td>\n",
       "      <td>52.2222</td>\n",
       "      <td>51.1111</td>\n",
       "      <td>61.1111</td>\n",
       "    </tr>\n",
       "    <tr>\n",
       "      <th>Without_AD</th>\n",
       "      <td>52.2222</td>\n",
       "      <td>57.7778</td>\n",
       "      <td>48.8889</td>\n",
       "      <td>57.7778</td>\n",
       "    </tr>\n",
       "    <tr>\n",
       "      <th>Without_CL</th>\n",
       "      <td>52.2222</td>\n",
       "      <td>55.5556</td>\n",
       "      <td>53.3333</td>\n",
       "      <td>56.6667</td>\n",
       "    </tr>\n",
       "    <tr>\n",
       "      <th>Without_Curvature</th>\n",
       "      <td>54.4444</td>\n",
       "      <td>53.3333</td>\n",
       "      <td>53.3333</td>\n",
       "      <td>57.7778</td>\n",
       "    </tr>\n",
       "    <tr>\n",
       "      <th>Without_Torsion</th>\n",
       "      <td>53.3333</td>\n",
       "      <td>53.3333</td>\n",
       "      <td>53.3333</td>\n",
       "      <td>60</td>\n",
       "    </tr>\n",
       "    <tr>\n",
       "      <th>Without_Volume</th>\n",
       "      <td>54.4444</td>\n",
       "      <td>56.6667</td>\n",
       "      <td>41.1111</td>\n",
       "      <td>61.1111</td>\n",
       "    </tr>\n",
       "  </tbody>\n",
       "</table>\n",
       "</div>"
      ],
      "text/plain": [
       "                       SVM Random_Forest Decision_Tree XG_Boost\n",
       "All Features       53.3333       58.8889       53.3333  56.6667\n",
       "Without_FA         55.5556       56.6667       53.3333  58.8889\n",
       "Without_MA         54.4444            60       55.5556  54.4444\n",
       "Without_RD         55.5556       52.2222       51.1111  61.1111\n",
       "Without_AD         52.2222       57.7778       48.8889  57.7778\n",
       "Without_CL         52.2222       55.5556       53.3333  56.6667\n",
       "Without_Curvature  54.4444       53.3333       53.3333  57.7778\n",
       "Without_Torsion    53.3333       53.3333       53.3333       60\n",
       "Without_Volume     54.4444       56.6667       41.1111  61.1111"
      ]
     },
     "execution_count": 99,
     "metadata": {},
     "output_type": "execute_result"
    }
   ],
   "source": [
    "feature_entry=[]\n",
    "for models in finalClassifiers:\n",
    "    models.fit(X_train, y_train.ravel())\n",
    "    name = models.__class__.__name__\n",
    "    \n",
    "    print(\"=\"*30)\n",
    "    print(name)\n",
    "    \n",
    "    print('****Results****')\n",
    "    train_predictions = models.predict(X_test)\n",
    "    trainingscore=models.score(X_train, y_train.ravel())\n",
    "    accuracy = accuracy_score(y_test.ravel(), train_predictions)\n",
    "    print(\"Training {:.2%}\".format(trainingscore))\n",
    "    print(\"Accuracy {:.2%}\".format(accuracy))\n",
    "\n",
    "    feature_entry.append([accuracy*100])\n",
    "\n",
    "    FeatureImportance_vol=pd.DataFrame(feature_entry[0:4],columns=[\"Without_Volume\"])\n",
    "    classifierss=[\"SVM\",\"Random_Forest\",\"Decision_Tree\",\"XG_Boost\"]\n",
    "    classifierss_df=pd.DataFrame(classifierss[0:4],columns=[\"Models\"])\n",
    "    \n",
    "print(\"=\"*30)\n",
    "FeatureImportance_all=pd.concat((classifierss_df,FeatureImportance_all,FeatureImportance_FA,FeatureImportance_MD,FeatureImportance_RD,FeatureImportance_AD,FeatureImportance_CL,FeatureImportance_cur,FeatureImportance_tor,FeatureImportance_vol),axis=1)\n",
    "# FeatureImportance_all\n",
    "df_t = FeatureImportance_all.T\n",
    "#grab the first row for the column\n",
    "df_t=df_t.rename(columns=df_t.iloc[0])\n",
    "df_t=df_t[1:] #take the data less the header row\n",
    "df_t\n"
   ]
  },
  {
   "cell_type": "code",
   "execution_count": 100,
   "metadata": {},
   "outputs": [
    {
     "data": {
      "image/png": "[encoded data removed]",
      "text/plain": [
       "<Figure size 1440x1440 with 1 Axes>"
      ]
     },
     "metadata": {
      "needs_background": "light"
     },
     "output_type": "display_data"
    }
   ],
   "source": [
    "barplot=df_t.plot(kind='barh',figsize=(20,20),width=.8,color=[\"khaki\",\"thistle\",\"cadetblue\",\"orange\"])\n",
    "\n",
    "for p in barplot.patches:\n",
    "                _x = p.get_x() + p.get_width() \n",
    "               \n",
    "                _y = p.get_y() + p.get_height()\n",
    "\n",
    "                value = int(p.get_width())\n",
    "                barplot.text(_x, _y, value, ha=\"left\")\n",
    "# Giving the title for the plot\n",
    "plt.title(\"Bar plot representing the Features Importance of NC vs MCI\")\n",
    "# Namimg the x and y axis\n",
    "plt.ylabel('Features')\n",
    "plt.xlabel('Scores')\n",
    "plt.show()\n"
   ]
  },
  {
   "cell_type": "code",
   "execution_count": null,
   "metadata": {},
   "outputs": [],
   "source": []
  }
 ],
 "metadata": {
  "kernelspec": {
   "display_name": "Python 3",
   "language": "python",
   "name": "python3"
  },
  "language_info": {
   "codemirror_mode": {
    "name": "ipython",
    "version": 3
   },
   "file_extension": ".py",
   "mimetype": "text/x-python",
   "name": "python",
   "nbconvert_exporter": "python",
   "pygments_lexer": "ipython3",
   "version": "3.7.6"
  }
 },
 "nbformat": 4,
 "nbformat_minor": 4
}
